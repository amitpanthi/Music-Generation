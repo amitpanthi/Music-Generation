{
  "nbformat": 4,
  "nbformat_minor": 0,
  "metadata": {
    "colab": {
      "name": "Music Synthesis.ipynb",
      "provenance": [],
      "collapsed_sections": [],
      "toc_visible": true,
      "authorship_tag": "ABX9TyNP+Ko2ZI18yqB0hjKe0fjJ",
      "include_colab_link": true
    },
    "kernelspec": {
      "name": "python3",
      "display_name": "Python 3"
    },
    "accelerator": "GPU",
    "widgets": {
      "application/vnd.jupyter.widget-state+json": {
        "1cfc9fe92e3f48109434e33e2ddb1da0": {
          "model_module": "@jupyter-widgets/controls",
          "model_name": "HBoxModel",
          "state": {
            "_view_name": "HBoxView",
            "_dom_classes": [],
            "_model_name": "HBoxModel",
            "_view_module": "@jupyter-widgets/controls",
            "_model_module_version": "1.5.0",
            "_view_count": null,
            "_view_module_version": "1.5.0",
            "box_style": "",
            "layout": "IPY_MODEL_2d4c75a20b92478b9c2900e5a9b6303e",
            "_model_module": "@jupyter-widgets/controls",
            "children": [
              "IPY_MODEL_cd7540e1bff746679cfae9443e091d15",
              "IPY_MODEL_bce339b695af4ebbbe693e481bfbfc9c"
            ]
          }
        },
        "2d4c75a20b92478b9c2900e5a9b6303e": {
          "model_module": "@jupyter-widgets/base",
          "model_name": "LayoutModel",
          "state": {
            "_view_name": "LayoutView",
            "grid_template_rows": null,
            "right": null,
            "justify_content": null,
            "_view_module": "@jupyter-widgets/base",
            "overflow": null,
            "_model_module_version": "1.2.0",
            "_view_count": null,
            "flex_flow": null,
            "width": null,
            "min_width": null,
            "border": null,
            "align_items": null,
            "bottom": null,
            "_model_module": "@jupyter-widgets/base",
            "top": null,
            "grid_column": null,
            "overflow_y": null,
            "overflow_x": null,
            "grid_auto_flow": null,
            "grid_area": null,
            "grid_template_columns": null,
            "flex": null,
            "_model_name": "LayoutModel",
            "justify_items": null,
            "grid_row": null,
            "max_height": null,
            "align_content": null,
            "visibility": null,
            "align_self": null,
            "height": null,
            "min_height": null,
            "padding": null,
            "grid_auto_rows": null,
            "grid_gap": null,
            "max_width": null,
            "order": null,
            "_view_module_version": "1.2.0",
            "grid_template_areas": null,
            "object_position": null,
            "object_fit": null,
            "grid_auto_columns": null,
            "margin": null,
            "display": null,
            "left": null
          }
        },
        "cd7540e1bff746679cfae9443e091d15": {
          "model_module": "@jupyter-widgets/controls",
          "model_name": "FloatProgressModel",
          "state": {
            "_view_name": "ProgressView",
            "style": "IPY_MODEL_a81a625f033f47b28c097ce153f835df",
            "_dom_classes": [],
            "description": "100%",
            "_model_name": "FloatProgressModel",
            "bar_style": "success",
            "max": 6857,
            "_view_module": "@jupyter-widgets/controls",
            "_model_module_version": "1.5.0",
            "value": 6857,
            "_view_count": null,
            "_view_module_version": "1.5.0",
            "orientation": "horizontal",
            "min": 0,
            "description_tooltip": null,
            "_model_module": "@jupyter-widgets/controls",
            "layout": "IPY_MODEL_f45345deb6b148c4b691ebe7a0626cc1"
          }
        },
        "bce339b695af4ebbbe693e481bfbfc9c": {
          "model_module": "@jupyter-widgets/controls",
          "model_name": "HTMLModel",
          "state": {
            "_view_name": "HTMLView",
            "style": "IPY_MODEL_645f4822a7094739abb332451e0b661d",
            "_dom_classes": [],
            "description": "",
            "_model_name": "HTMLModel",
            "placeholder": "​",
            "_view_module": "@jupyter-widgets/controls",
            "_model_module_version": "1.5.0",
            "value": " 6857/6857 [16:34&lt;00:00,  6.90it/s]",
            "_view_count": null,
            "_view_module_version": "1.5.0",
            "description_tooltip": null,
            "_model_module": "@jupyter-widgets/controls",
            "layout": "IPY_MODEL_a9efd5cf1fdd42398dc4209cd69d50ab"
          }
        },
        "a81a625f033f47b28c097ce153f835df": {
          "model_module": "@jupyter-widgets/controls",
          "model_name": "ProgressStyleModel",
          "state": {
            "_view_name": "StyleView",
            "_model_name": "ProgressStyleModel",
            "description_width": "initial",
            "_view_module": "@jupyter-widgets/base",
            "_model_module_version": "1.5.0",
            "_view_count": null,
            "_view_module_version": "1.2.0",
            "bar_color": null,
            "_model_module": "@jupyter-widgets/controls"
          }
        },
        "f45345deb6b148c4b691ebe7a0626cc1": {
          "model_module": "@jupyter-widgets/base",
          "model_name": "LayoutModel",
          "state": {
            "_view_name": "LayoutView",
            "grid_template_rows": null,
            "right": null,
            "justify_content": null,
            "_view_module": "@jupyter-widgets/base",
            "overflow": null,
            "_model_module_version": "1.2.0",
            "_view_count": null,
            "flex_flow": null,
            "width": null,
            "min_width": null,
            "border": null,
            "align_items": null,
            "bottom": null,
            "_model_module": "@jupyter-widgets/base",
            "top": null,
            "grid_column": null,
            "overflow_y": null,
            "overflow_x": null,
            "grid_auto_flow": null,
            "grid_area": null,
            "grid_template_columns": null,
            "flex": null,
            "_model_name": "LayoutModel",
            "justify_items": null,
            "grid_row": null,
            "max_height": null,
            "align_content": null,
            "visibility": null,
            "align_self": null,
            "height": null,
            "min_height": null,
            "padding": null,
            "grid_auto_rows": null,
            "grid_gap": null,
            "max_width": null,
            "order": null,
            "_view_module_version": "1.2.0",
            "grid_template_areas": null,
            "object_position": null,
            "object_fit": null,
            "grid_auto_columns": null,
            "margin": null,
            "display": null,
            "left": null
          }
        },
        "645f4822a7094739abb332451e0b661d": {
          "model_module": "@jupyter-widgets/controls",
          "model_name": "DescriptionStyleModel",
          "state": {
            "_view_name": "StyleView",
            "_model_name": "DescriptionStyleModel",
            "description_width": "",
            "_view_module": "@jupyter-widgets/base",
            "_model_module_version": "1.5.0",
            "_view_count": null,
            "_view_module_version": "1.2.0",
            "_model_module": "@jupyter-widgets/controls"
          }
        },
        "a9efd5cf1fdd42398dc4209cd69d50ab": {
          "model_module": "@jupyter-widgets/base",
          "model_name": "LayoutModel",
          "state": {
            "_view_name": "LayoutView",
            "grid_template_rows": null,
            "right": null,
            "justify_content": null,
            "_view_module": "@jupyter-widgets/base",
            "overflow": null,
            "_model_module_version": "1.2.0",
            "_view_count": null,
            "flex_flow": null,
            "width": null,
            "min_width": null,
            "border": null,
            "align_items": null,
            "bottom": null,
            "_model_module": "@jupyter-widgets/base",
            "top": null,
            "grid_column": null,
            "overflow_y": null,
            "overflow_x": null,
            "grid_auto_flow": null,
            "grid_area": null,
            "grid_template_columns": null,
            "flex": null,
            "_model_name": "LayoutModel",
            "justify_items": null,
            "grid_row": null,
            "max_height": null,
            "align_content": null,
            "visibility": null,
            "align_self": null,
            "height": null,
            "min_height": null,
            "padding": null,
            "grid_auto_rows": null,
            "grid_gap": null,
            "max_width": null,
            "order": null,
            "_view_module_version": "1.2.0",
            "grid_template_areas": null,
            "object_position": null,
            "object_fit": null,
            "grid_auto_columns": null,
            "margin": null,
            "display": null,
            "left": null
          }
        },
        "908c6b7c863945df95ec39e624d629f7": {
          "model_module": "@jupyter-widgets/controls",
          "model_name": "HBoxModel",
          "state": {
            "_view_name": "HBoxView",
            "_dom_classes": [],
            "_model_name": "HBoxModel",
            "_view_module": "@jupyter-widgets/controls",
            "_model_module_version": "1.5.0",
            "_view_count": null,
            "_view_module_version": "1.5.0",
            "box_style": "",
            "layout": "IPY_MODEL_f0fd6736ec364a29a38bd4474962fe62",
            "_model_module": "@jupyter-widgets/controls",
            "children": [
              "IPY_MODEL_9d421344cc784fd9b084cd97a6ddba17",
              "IPY_MODEL_f7e7bc78144f4341b97fcca2ae1e2afe"
            ]
          }
        },
        "f0fd6736ec364a29a38bd4474962fe62": {
          "model_module": "@jupyter-widgets/base",
          "model_name": "LayoutModel",
          "state": {
            "_view_name": "LayoutView",
            "grid_template_rows": null,
            "right": null,
            "justify_content": null,
            "_view_module": "@jupyter-widgets/base",
            "overflow": null,
            "_model_module_version": "1.2.0",
            "_view_count": null,
            "flex_flow": null,
            "width": null,
            "min_width": null,
            "border": null,
            "align_items": null,
            "bottom": null,
            "_model_module": "@jupyter-widgets/base",
            "top": null,
            "grid_column": null,
            "overflow_y": null,
            "overflow_x": null,
            "grid_auto_flow": null,
            "grid_area": null,
            "grid_template_columns": null,
            "flex": null,
            "_model_name": "LayoutModel",
            "justify_items": null,
            "grid_row": null,
            "max_height": null,
            "align_content": null,
            "visibility": null,
            "align_self": null,
            "height": null,
            "min_height": null,
            "padding": null,
            "grid_auto_rows": null,
            "grid_gap": null,
            "max_width": null,
            "order": null,
            "_view_module_version": "1.2.0",
            "grid_template_areas": null,
            "object_position": null,
            "object_fit": null,
            "grid_auto_columns": null,
            "margin": null,
            "display": null,
            "left": null
          }
        },
        "9d421344cc784fd9b084cd97a6ddba17": {
          "model_module": "@jupyter-widgets/controls",
          "model_name": "FloatProgressModel",
          "state": {
            "_view_name": "ProgressView",
            "style": "IPY_MODEL_7a3bae0792a24e70bfc834ebb35c6da9",
            "_dom_classes": [],
            "description": "100%",
            "_model_name": "FloatProgressModel",
            "bar_style": "success",
            "max": 6857,
            "_view_module": "@jupyter-widgets/controls",
            "_model_module_version": "1.5.0",
            "value": 6857,
            "_view_count": null,
            "_view_module_version": "1.5.0",
            "orientation": "horizontal",
            "min": 0,
            "description_tooltip": null,
            "_model_module": "@jupyter-widgets/controls",
            "layout": "IPY_MODEL_e13f630c9cf74549b2f145a5202971a7"
          }
        },
        "f7e7bc78144f4341b97fcca2ae1e2afe": {
          "model_module": "@jupyter-widgets/controls",
          "model_name": "HTMLModel",
          "state": {
            "_view_name": "HTMLView",
            "style": "IPY_MODEL_307c659820e14872b678f6a9f0c704d0",
            "_dom_classes": [],
            "description": "",
            "_model_name": "HTMLModel",
            "placeholder": "​",
            "_view_module": "@jupyter-widgets/controls",
            "_model_module_version": "1.5.0",
            "value": " 6857/6857 [16:28&lt;00:00,  6.93it/s]",
            "_view_count": null,
            "_view_module_version": "1.5.0",
            "description_tooltip": null,
            "_model_module": "@jupyter-widgets/controls",
            "layout": "IPY_MODEL_87d47826a29a48c99a6ea72fc5674c89"
          }
        },
        "7a3bae0792a24e70bfc834ebb35c6da9": {
          "model_module": "@jupyter-widgets/controls",
          "model_name": "ProgressStyleModel",
          "state": {
            "_view_name": "StyleView",
            "_model_name": "ProgressStyleModel",
            "description_width": "initial",
            "_view_module": "@jupyter-widgets/base",
            "_model_module_version": "1.5.0",
            "_view_count": null,
            "_view_module_version": "1.2.0",
            "bar_color": null,
            "_model_module": "@jupyter-widgets/controls"
          }
        },
        "e13f630c9cf74549b2f145a5202971a7": {
          "model_module": "@jupyter-widgets/base",
          "model_name": "LayoutModel",
          "state": {
            "_view_name": "LayoutView",
            "grid_template_rows": null,
            "right": null,
            "justify_content": null,
            "_view_module": "@jupyter-widgets/base",
            "overflow": null,
            "_model_module_version": "1.2.0",
            "_view_count": null,
            "flex_flow": null,
            "width": null,
            "min_width": null,
            "border": null,
            "align_items": null,
            "bottom": null,
            "_model_module": "@jupyter-widgets/base",
            "top": null,
            "grid_column": null,
            "overflow_y": null,
            "overflow_x": null,
            "grid_auto_flow": null,
            "grid_area": null,
            "grid_template_columns": null,
            "flex": null,
            "_model_name": "LayoutModel",
            "justify_items": null,
            "grid_row": null,
            "max_height": null,
            "align_content": null,
            "visibility": null,
            "align_self": null,
            "height": null,
            "min_height": null,
            "padding": null,
            "grid_auto_rows": null,
            "grid_gap": null,
            "max_width": null,
            "order": null,
            "_view_module_version": "1.2.0",
            "grid_template_areas": null,
            "object_position": null,
            "object_fit": null,
            "grid_auto_columns": null,
            "margin": null,
            "display": null,
            "left": null
          }
        },
        "307c659820e14872b678f6a9f0c704d0": {
          "model_module": "@jupyter-widgets/controls",
          "model_name": "DescriptionStyleModel",
          "state": {
            "_view_name": "StyleView",
            "_model_name": "DescriptionStyleModel",
            "description_width": "",
            "_view_module": "@jupyter-widgets/base",
            "_model_module_version": "1.5.0",
            "_view_count": null,
            "_view_module_version": "1.2.0",
            "_model_module": "@jupyter-widgets/controls"
          }
        },
        "87d47826a29a48c99a6ea72fc5674c89": {
          "model_module": "@jupyter-widgets/base",
          "model_name": "LayoutModel",
          "state": {
            "_view_name": "LayoutView",
            "grid_template_rows": null,
            "right": null,
            "justify_content": null,
            "_view_module": "@jupyter-widgets/base",
            "overflow": null,
            "_model_module_version": "1.2.0",
            "_view_count": null,
            "flex_flow": null,
            "width": null,
            "min_width": null,
            "border": null,
            "align_items": null,
            "bottom": null,
            "_model_module": "@jupyter-widgets/base",
            "top": null,
            "grid_column": null,
            "overflow_y": null,
            "overflow_x": null,
            "grid_auto_flow": null,
            "grid_area": null,
            "grid_template_columns": null,
            "flex": null,
            "_model_name": "LayoutModel",
            "justify_items": null,
            "grid_row": null,
            "max_height": null,
            "align_content": null,
            "visibility": null,
            "align_self": null,
            "height": null,
            "min_height": null,
            "padding": null,
            "grid_auto_rows": null,
            "grid_gap": null,
            "max_width": null,
            "order": null,
            "_view_module_version": "1.2.0",
            "grid_template_areas": null,
            "object_position": null,
            "object_fit": null,
            "grid_auto_columns": null,
            "margin": null,
            "display": null,
            "left": null
          }
        },
        "a03833fb05724ed5a526e375a5d1c1a5": {
          "model_module": "@jupyter-widgets/controls",
          "model_name": "HBoxModel",
          "state": {
            "_view_name": "HBoxView",
            "_dom_classes": [],
            "_model_name": "HBoxModel",
            "_view_module": "@jupyter-widgets/controls",
            "_model_module_version": "1.5.0",
            "_view_count": null,
            "_view_module_version": "1.5.0",
            "box_style": "",
            "layout": "IPY_MODEL_67dbc86e98db4cd5bcc9c19897311a64",
            "_model_module": "@jupyter-widgets/controls",
            "children": [
              "IPY_MODEL_4536e3c25e26434ba61ed285a3904664",
              "IPY_MODEL_5243612b89634039815cee3d6f845333"
            ]
          }
        },
        "67dbc86e98db4cd5bcc9c19897311a64": {
          "model_module": "@jupyter-widgets/base",
          "model_name": "LayoutModel",
          "state": {
            "_view_name": "LayoutView",
            "grid_template_rows": null,
            "right": null,
            "justify_content": null,
            "_view_module": "@jupyter-widgets/base",
            "overflow": null,
            "_model_module_version": "1.2.0",
            "_view_count": null,
            "flex_flow": null,
            "width": null,
            "min_width": null,
            "border": null,
            "align_items": null,
            "bottom": null,
            "_model_module": "@jupyter-widgets/base",
            "top": null,
            "grid_column": null,
            "overflow_y": null,
            "overflow_x": null,
            "grid_auto_flow": null,
            "grid_area": null,
            "grid_template_columns": null,
            "flex": null,
            "_model_name": "LayoutModel",
            "justify_items": null,
            "grid_row": null,
            "max_height": null,
            "align_content": null,
            "visibility": null,
            "align_self": null,
            "height": null,
            "min_height": null,
            "padding": null,
            "grid_auto_rows": null,
            "grid_gap": null,
            "max_width": null,
            "order": null,
            "_view_module_version": "1.2.0",
            "grid_template_areas": null,
            "object_position": null,
            "object_fit": null,
            "grid_auto_columns": null,
            "margin": null,
            "display": null,
            "left": null
          }
        },
        "4536e3c25e26434ba61ed285a3904664": {
          "model_module": "@jupyter-widgets/controls",
          "model_name": "FloatProgressModel",
          "state": {
            "_view_name": "ProgressView",
            "style": "IPY_MODEL_77409151a6e0413db252c7fa7b8179d9",
            "_dom_classes": [],
            "description": "100%",
            "_model_name": "FloatProgressModel",
            "bar_style": "success",
            "max": 6857,
            "_view_module": "@jupyter-widgets/controls",
            "_model_module_version": "1.5.0",
            "value": 6857,
            "_view_count": null,
            "_view_module_version": "1.5.0",
            "orientation": "horizontal",
            "min": 0,
            "description_tooltip": null,
            "_model_module": "@jupyter-widgets/controls",
            "layout": "IPY_MODEL_497a0847ae704f88b5eec54de36e15e4"
          }
        },
        "5243612b89634039815cee3d6f845333": {
          "model_module": "@jupyter-widgets/controls",
          "model_name": "HTMLModel",
          "state": {
            "_view_name": "HTMLView",
            "style": "IPY_MODEL_02ba737e92f94e18927501eb2bd7eb30",
            "_dom_classes": [],
            "description": "",
            "_model_name": "HTMLModel",
            "placeholder": "​",
            "_view_module": "@jupyter-widgets/controls",
            "_model_module_version": "1.5.0",
            "value": " 6857/6857 [16:32&lt;00:00,  6.91it/s]",
            "_view_count": null,
            "_view_module_version": "1.5.0",
            "description_tooltip": null,
            "_model_module": "@jupyter-widgets/controls",
            "layout": "IPY_MODEL_1bda5d4800f04acab7de32e70354c23d"
          }
        },
        "77409151a6e0413db252c7fa7b8179d9": {
          "model_module": "@jupyter-widgets/controls",
          "model_name": "ProgressStyleModel",
          "state": {
            "_view_name": "StyleView",
            "_model_name": "ProgressStyleModel",
            "description_width": "initial",
            "_view_module": "@jupyter-widgets/base",
            "_model_module_version": "1.5.0",
            "_view_count": null,
            "_view_module_version": "1.2.0",
            "bar_color": null,
            "_model_module": "@jupyter-widgets/controls"
          }
        },
        "497a0847ae704f88b5eec54de36e15e4": {
          "model_module": "@jupyter-widgets/base",
          "model_name": "LayoutModel",
          "state": {
            "_view_name": "LayoutView",
            "grid_template_rows": null,
            "right": null,
            "justify_content": null,
            "_view_module": "@jupyter-widgets/base",
            "overflow": null,
            "_model_module_version": "1.2.0",
            "_view_count": null,
            "flex_flow": null,
            "width": null,
            "min_width": null,
            "border": null,
            "align_items": null,
            "bottom": null,
            "_model_module": "@jupyter-widgets/base",
            "top": null,
            "grid_column": null,
            "overflow_y": null,
            "overflow_x": null,
            "grid_auto_flow": null,
            "grid_area": null,
            "grid_template_columns": null,
            "flex": null,
            "_model_name": "LayoutModel",
            "justify_items": null,
            "grid_row": null,
            "max_height": null,
            "align_content": null,
            "visibility": null,
            "align_self": null,
            "height": null,
            "min_height": null,
            "padding": null,
            "grid_auto_rows": null,
            "grid_gap": null,
            "max_width": null,
            "order": null,
            "_view_module_version": "1.2.0",
            "grid_template_areas": null,
            "object_position": null,
            "object_fit": null,
            "grid_auto_columns": null,
            "margin": null,
            "display": null,
            "left": null
          }
        },
        "02ba737e92f94e18927501eb2bd7eb30": {
          "model_module": "@jupyter-widgets/controls",
          "model_name": "DescriptionStyleModel",
          "state": {
            "_view_name": "StyleView",
            "_model_name": "DescriptionStyleModel",
            "description_width": "",
            "_view_module": "@jupyter-widgets/base",
            "_model_module_version": "1.5.0",
            "_view_count": null,
            "_view_module_version": "1.2.0",
            "_model_module": "@jupyter-widgets/controls"
          }
        },
        "1bda5d4800f04acab7de32e70354c23d": {
          "model_module": "@jupyter-widgets/base",
          "model_name": "LayoutModel",
          "state": {
            "_view_name": "LayoutView",
            "grid_template_rows": null,
            "right": null,
            "justify_content": null,
            "_view_module": "@jupyter-widgets/base",
            "overflow": null,
            "_model_module_version": "1.2.0",
            "_view_count": null,
            "flex_flow": null,
            "width": null,
            "min_width": null,
            "border": null,
            "align_items": null,
            "bottom": null,
            "_model_module": "@jupyter-widgets/base",
            "top": null,
            "grid_column": null,
            "overflow_y": null,
            "overflow_x": null,
            "grid_auto_flow": null,
            "grid_area": null,
            "grid_template_columns": null,
            "flex": null,
            "_model_name": "LayoutModel",
            "justify_items": null,
            "grid_row": null,
            "max_height": null,
            "align_content": null,
            "visibility": null,
            "align_self": null,
            "height": null,
            "min_height": null,
            "padding": null,
            "grid_auto_rows": null,
            "grid_gap": null,
            "max_width": null,
            "order": null,
            "_view_module_version": "1.2.0",
            "grid_template_areas": null,
            "object_position": null,
            "object_fit": null,
            "grid_auto_columns": null,
            "margin": null,
            "display": null,
            "left": null
          }
        },
        "84e89e20d4384b1c8f19ca0e5ab282cb": {
          "model_module": "@jupyter-widgets/controls",
          "model_name": "HBoxModel",
          "state": {
            "_view_name": "HBoxView",
            "_dom_classes": [],
            "_model_name": "HBoxModel",
            "_view_module": "@jupyter-widgets/controls",
            "_model_module_version": "1.5.0",
            "_view_count": null,
            "_view_module_version": "1.5.0",
            "box_style": "",
            "layout": "IPY_MODEL_66e6bcb94f3640c1ac23329558644200",
            "_model_module": "@jupyter-widgets/controls",
            "children": [
              "IPY_MODEL_945d88656d344654bdf6e711eefe14f1",
              "IPY_MODEL_36f43c0e257b4cb79fb8950e8254a2a8"
            ]
          }
        },
        "66e6bcb94f3640c1ac23329558644200": {
          "model_module": "@jupyter-widgets/base",
          "model_name": "LayoutModel",
          "state": {
            "_view_name": "LayoutView",
            "grid_template_rows": null,
            "right": null,
            "justify_content": null,
            "_view_module": "@jupyter-widgets/base",
            "overflow": null,
            "_model_module_version": "1.2.0",
            "_view_count": null,
            "flex_flow": null,
            "width": null,
            "min_width": null,
            "border": null,
            "align_items": null,
            "bottom": null,
            "_model_module": "@jupyter-widgets/base",
            "top": null,
            "grid_column": null,
            "overflow_y": null,
            "overflow_x": null,
            "grid_auto_flow": null,
            "grid_area": null,
            "grid_template_columns": null,
            "flex": null,
            "_model_name": "LayoutModel",
            "justify_items": null,
            "grid_row": null,
            "max_height": null,
            "align_content": null,
            "visibility": null,
            "align_self": null,
            "height": null,
            "min_height": null,
            "padding": null,
            "grid_auto_rows": null,
            "grid_gap": null,
            "max_width": null,
            "order": null,
            "_view_module_version": "1.2.0",
            "grid_template_areas": null,
            "object_position": null,
            "object_fit": null,
            "grid_auto_columns": null,
            "margin": null,
            "display": null,
            "left": null
          }
        },
        "945d88656d344654bdf6e711eefe14f1": {
          "model_module": "@jupyter-widgets/controls",
          "model_name": "FloatProgressModel",
          "state": {
            "_view_name": "ProgressView",
            "style": "IPY_MODEL_523374470f54475786f025936900cfd5",
            "_dom_classes": [],
            "description": "100%",
            "_model_name": "FloatProgressModel",
            "bar_style": "success",
            "max": 6857,
            "_view_module": "@jupyter-widgets/controls",
            "_model_module_version": "1.5.0",
            "value": 6857,
            "_view_count": null,
            "_view_module_version": "1.5.0",
            "orientation": "horizontal",
            "min": 0,
            "description_tooltip": null,
            "_model_module": "@jupyter-widgets/controls",
            "layout": "IPY_MODEL_58e69374455342ba96194eaaaffd7d4a"
          }
        },
        "36f43c0e257b4cb79fb8950e8254a2a8": {
          "model_module": "@jupyter-widgets/controls",
          "model_name": "HTMLModel",
          "state": {
            "_view_name": "HTMLView",
            "style": "IPY_MODEL_e4290cc39f4c4f6c933113fd1dc78e03",
            "_dom_classes": [],
            "description": "",
            "_model_name": "HTMLModel",
            "placeholder": "​",
            "_view_module": "@jupyter-widgets/controls",
            "_model_module_version": "1.5.0",
            "value": " 6857/6857 [16:23&lt;00:00,  6.97it/s]",
            "_view_count": null,
            "_view_module_version": "1.5.0",
            "description_tooltip": null,
            "_model_module": "@jupyter-widgets/controls",
            "layout": "IPY_MODEL_b0048feabc024e24b71ac8a568740a03"
          }
        },
        "523374470f54475786f025936900cfd5": {
          "model_module": "@jupyter-widgets/controls",
          "model_name": "ProgressStyleModel",
          "state": {
            "_view_name": "StyleView",
            "_model_name": "ProgressStyleModel",
            "description_width": "initial",
            "_view_module": "@jupyter-widgets/base",
            "_model_module_version": "1.5.0",
            "_view_count": null,
            "_view_module_version": "1.2.0",
            "bar_color": null,
            "_model_module": "@jupyter-widgets/controls"
          }
        },
        "58e69374455342ba96194eaaaffd7d4a": {
          "model_module": "@jupyter-widgets/base",
          "model_name": "LayoutModel",
          "state": {
            "_view_name": "LayoutView",
            "grid_template_rows": null,
            "right": null,
            "justify_content": null,
            "_view_module": "@jupyter-widgets/base",
            "overflow": null,
            "_model_module_version": "1.2.0",
            "_view_count": null,
            "flex_flow": null,
            "width": null,
            "min_width": null,
            "border": null,
            "align_items": null,
            "bottom": null,
            "_model_module": "@jupyter-widgets/base",
            "top": null,
            "grid_column": null,
            "overflow_y": null,
            "overflow_x": null,
            "grid_auto_flow": null,
            "grid_area": null,
            "grid_template_columns": null,
            "flex": null,
            "_model_name": "LayoutModel",
            "justify_items": null,
            "grid_row": null,
            "max_height": null,
            "align_content": null,
            "visibility": null,
            "align_self": null,
            "height": null,
            "min_height": null,
            "padding": null,
            "grid_auto_rows": null,
            "grid_gap": null,
            "max_width": null,
            "order": null,
            "_view_module_version": "1.2.0",
            "grid_template_areas": null,
            "object_position": null,
            "object_fit": null,
            "grid_auto_columns": null,
            "margin": null,
            "display": null,
            "left": null
          }
        },
        "e4290cc39f4c4f6c933113fd1dc78e03": {
          "model_module": "@jupyter-widgets/controls",
          "model_name": "DescriptionStyleModel",
          "state": {
            "_view_name": "StyleView",
            "_model_name": "DescriptionStyleModel",
            "description_width": "",
            "_view_module": "@jupyter-widgets/base",
            "_model_module_version": "1.5.0",
            "_view_count": null,
            "_view_module_version": "1.2.0",
            "_model_module": "@jupyter-widgets/controls"
          }
        },
        "b0048feabc024e24b71ac8a568740a03": {
          "model_module": "@jupyter-widgets/base",
          "model_name": "LayoutModel",
          "state": {
            "_view_name": "LayoutView",
            "grid_template_rows": null,
            "right": null,
            "justify_content": null,
            "_view_module": "@jupyter-widgets/base",
            "overflow": null,
            "_model_module_version": "1.2.0",
            "_view_count": null,
            "flex_flow": null,
            "width": null,
            "min_width": null,
            "border": null,
            "align_items": null,
            "bottom": null,
            "_model_module": "@jupyter-widgets/base",
            "top": null,
            "grid_column": null,
            "overflow_y": null,
            "overflow_x": null,
            "grid_auto_flow": null,
            "grid_area": null,
            "grid_template_columns": null,
            "flex": null,
            "_model_name": "LayoutModel",
            "justify_items": null,
            "grid_row": null,
            "max_height": null,
            "align_content": null,
            "visibility": null,
            "align_self": null,
            "height": null,
            "min_height": null,
            "padding": null,
            "grid_auto_rows": null,
            "grid_gap": null,
            "max_width": null,
            "order": null,
            "_view_module_version": "1.2.0",
            "grid_template_areas": null,
            "object_position": null,
            "object_fit": null,
            "grid_auto_columns": null,
            "margin": null,
            "display": null,
            "left": null
          }
        },
        "174a4abf767840a5bc9aab4811e7d070": {
          "model_module": "@jupyter-widgets/controls",
          "model_name": "HBoxModel",
          "state": {
            "_view_name": "HBoxView",
            "_dom_classes": [],
            "_model_name": "HBoxModel",
            "_view_module": "@jupyter-widgets/controls",
            "_model_module_version": "1.5.0",
            "_view_count": null,
            "_view_module_version": "1.5.0",
            "box_style": "",
            "layout": "IPY_MODEL_464850022a0045e6b2aa04534ecd8bca",
            "_model_module": "@jupyter-widgets/controls",
            "children": [
              "IPY_MODEL_6c667bff43594bcfb17b83c3f2188d9f",
              "IPY_MODEL_c7e1b75b492b48599383c1a2014435d5"
            ]
          }
        },
        "464850022a0045e6b2aa04534ecd8bca": {
          "model_module": "@jupyter-widgets/base",
          "model_name": "LayoutModel",
          "state": {
            "_view_name": "LayoutView",
            "grid_template_rows": null,
            "right": null,
            "justify_content": null,
            "_view_module": "@jupyter-widgets/base",
            "overflow": null,
            "_model_module_version": "1.2.0",
            "_view_count": null,
            "flex_flow": null,
            "width": null,
            "min_width": null,
            "border": null,
            "align_items": null,
            "bottom": null,
            "_model_module": "@jupyter-widgets/base",
            "top": null,
            "grid_column": null,
            "overflow_y": null,
            "overflow_x": null,
            "grid_auto_flow": null,
            "grid_area": null,
            "grid_template_columns": null,
            "flex": null,
            "_model_name": "LayoutModel",
            "justify_items": null,
            "grid_row": null,
            "max_height": null,
            "align_content": null,
            "visibility": null,
            "align_self": null,
            "height": null,
            "min_height": null,
            "padding": null,
            "grid_auto_rows": null,
            "grid_gap": null,
            "max_width": null,
            "order": null,
            "_view_module_version": "1.2.0",
            "grid_template_areas": null,
            "object_position": null,
            "object_fit": null,
            "grid_auto_columns": null,
            "margin": null,
            "display": null,
            "left": null
          }
        },
        "6c667bff43594bcfb17b83c3f2188d9f": {
          "model_module": "@jupyter-widgets/controls",
          "model_name": "FloatProgressModel",
          "state": {
            "_view_name": "ProgressView",
            "style": "IPY_MODEL_e8d76fea7a8847dbab6f5299ed23b814",
            "_dom_classes": [],
            "description": "100%",
            "_model_name": "FloatProgressModel",
            "bar_style": "success",
            "max": 6857,
            "_view_module": "@jupyter-widgets/controls",
            "_model_module_version": "1.5.0",
            "value": 6857,
            "_view_count": null,
            "_view_module_version": "1.5.0",
            "orientation": "horizontal",
            "min": 0,
            "description_tooltip": null,
            "_model_module": "@jupyter-widgets/controls",
            "layout": "IPY_MODEL_abce09686a3b444db25250010cfe44f2"
          }
        },
        "c7e1b75b492b48599383c1a2014435d5": {
          "model_module": "@jupyter-widgets/controls",
          "model_name": "HTMLModel",
          "state": {
            "_view_name": "HTMLView",
            "style": "IPY_MODEL_39f9cf1e326a442fa7d29014b7f680c3",
            "_dom_classes": [],
            "description": "",
            "_model_name": "HTMLModel",
            "placeholder": "​",
            "_view_module": "@jupyter-widgets/controls",
            "_model_module_version": "1.5.0",
            "value": " 6857/6857 [16:20&lt;00:00,  6.99it/s]",
            "_view_count": null,
            "_view_module_version": "1.5.0",
            "description_tooltip": null,
            "_model_module": "@jupyter-widgets/controls",
            "layout": "IPY_MODEL_7fd1e25b8b344d01a9a07432f302a49f"
          }
        },
        "e8d76fea7a8847dbab6f5299ed23b814": {
          "model_module": "@jupyter-widgets/controls",
          "model_name": "ProgressStyleModel",
          "state": {
            "_view_name": "StyleView",
            "_model_name": "ProgressStyleModel",
            "description_width": "initial",
            "_view_module": "@jupyter-widgets/base",
            "_model_module_version": "1.5.0",
            "_view_count": null,
            "_view_module_version": "1.2.0",
            "bar_color": null,
            "_model_module": "@jupyter-widgets/controls"
          }
        },
        "abce09686a3b444db25250010cfe44f2": {
          "model_module": "@jupyter-widgets/base",
          "model_name": "LayoutModel",
          "state": {
            "_view_name": "LayoutView",
            "grid_template_rows": null,
            "right": null,
            "justify_content": null,
            "_view_module": "@jupyter-widgets/base",
            "overflow": null,
            "_model_module_version": "1.2.0",
            "_view_count": null,
            "flex_flow": null,
            "width": null,
            "min_width": null,
            "border": null,
            "align_items": null,
            "bottom": null,
            "_model_module": "@jupyter-widgets/base",
            "top": null,
            "grid_column": null,
            "overflow_y": null,
            "overflow_x": null,
            "grid_auto_flow": null,
            "grid_area": null,
            "grid_template_columns": null,
            "flex": null,
            "_model_name": "LayoutModel",
            "justify_items": null,
            "grid_row": null,
            "max_height": null,
            "align_content": null,
            "visibility": null,
            "align_self": null,
            "height": null,
            "min_height": null,
            "padding": null,
            "grid_auto_rows": null,
            "grid_gap": null,
            "max_width": null,
            "order": null,
            "_view_module_version": "1.2.0",
            "grid_template_areas": null,
            "object_position": null,
            "object_fit": null,
            "grid_auto_columns": null,
            "margin": null,
            "display": null,
            "left": null
          }
        },
        "39f9cf1e326a442fa7d29014b7f680c3": {
          "model_module": "@jupyter-widgets/controls",
          "model_name": "DescriptionStyleModel",
          "state": {
            "_view_name": "StyleView",
            "_model_name": "DescriptionStyleModel",
            "description_width": "",
            "_view_module": "@jupyter-widgets/base",
            "_model_module_version": "1.5.0",
            "_view_count": null,
            "_view_module_version": "1.2.0",
            "_model_module": "@jupyter-widgets/controls"
          }
        },
        "7fd1e25b8b344d01a9a07432f302a49f": {
          "model_module": "@jupyter-widgets/base",
          "model_name": "LayoutModel",
          "state": {
            "_view_name": "LayoutView",
            "grid_template_rows": null,
            "right": null,
            "justify_content": null,
            "_view_module": "@jupyter-widgets/base",
            "overflow": null,
            "_model_module_version": "1.2.0",
            "_view_count": null,
            "flex_flow": null,
            "width": null,
            "min_width": null,
            "border": null,
            "align_items": null,
            "bottom": null,
            "_model_module": "@jupyter-widgets/base",
            "top": null,
            "grid_column": null,
            "overflow_y": null,
            "overflow_x": null,
            "grid_auto_flow": null,
            "grid_area": null,
            "grid_template_columns": null,
            "flex": null,
            "_model_name": "LayoutModel",
            "justify_items": null,
            "grid_row": null,
            "max_height": null,
            "align_content": null,
            "visibility": null,
            "align_self": null,
            "height": null,
            "min_height": null,
            "padding": null,
            "grid_auto_rows": null,
            "grid_gap": null,
            "max_width": null,
            "order": null,
            "_view_module_version": "1.2.0",
            "grid_template_areas": null,
            "object_position": null,
            "object_fit": null,
            "grid_auto_columns": null,
            "margin": null,
            "display": null,
            "left": null
          }
        },
        "2c35e437257a4e448023ac3f60914bee": {
          "model_module": "@jupyter-widgets/controls",
          "model_name": "HBoxModel",
          "state": {
            "_view_name": "HBoxView",
            "_dom_classes": [],
            "_model_name": "HBoxModel",
            "_view_module": "@jupyter-widgets/controls",
            "_model_module_version": "1.5.0",
            "_view_count": null,
            "_view_module_version": "1.5.0",
            "box_style": "",
            "layout": "IPY_MODEL_407085fd20224951b44bb03026462876",
            "_model_module": "@jupyter-widgets/controls",
            "children": [
              "IPY_MODEL_522d4c20789248f69029ac2d5d9edc4a",
              "IPY_MODEL_bf865c3886aa43e987edf27fb38ef92d"
            ]
          }
        },
        "407085fd20224951b44bb03026462876": {
          "model_module": "@jupyter-widgets/base",
          "model_name": "LayoutModel",
          "state": {
            "_view_name": "LayoutView",
            "grid_template_rows": null,
            "right": null,
            "justify_content": null,
            "_view_module": "@jupyter-widgets/base",
            "overflow": null,
            "_model_module_version": "1.2.0",
            "_view_count": null,
            "flex_flow": null,
            "width": null,
            "min_width": null,
            "border": null,
            "align_items": null,
            "bottom": null,
            "_model_module": "@jupyter-widgets/base",
            "top": null,
            "grid_column": null,
            "overflow_y": null,
            "overflow_x": null,
            "grid_auto_flow": null,
            "grid_area": null,
            "grid_template_columns": null,
            "flex": null,
            "_model_name": "LayoutModel",
            "justify_items": null,
            "grid_row": null,
            "max_height": null,
            "align_content": null,
            "visibility": null,
            "align_self": null,
            "height": null,
            "min_height": null,
            "padding": null,
            "grid_auto_rows": null,
            "grid_gap": null,
            "max_width": null,
            "order": null,
            "_view_module_version": "1.2.0",
            "grid_template_areas": null,
            "object_position": null,
            "object_fit": null,
            "grid_auto_columns": null,
            "margin": null,
            "display": null,
            "left": null
          }
        },
        "522d4c20789248f69029ac2d5d9edc4a": {
          "model_module": "@jupyter-widgets/controls",
          "model_name": "FloatProgressModel",
          "state": {
            "_view_name": "ProgressView",
            "style": "IPY_MODEL_8b7c1fcd4cc6452f8aec9204539dfdf2",
            "_dom_classes": [],
            "description": "100%",
            "_model_name": "FloatProgressModel",
            "bar_style": "success",
            "max": 6857,
            "_view_module": "@jupyter-widgets/controls",
            "_model_module_version": "1.5.0",
            "value": 6857,
            "_view_count": null,
            "_view_module_version": "1.5.0",
            "orientation": "horizontal",
            "min": 0,
            "description_tooltip": null,
            "_model_module": "@jupyter-widgets/controls",
            "layout": "IPY_MODEL_49ba5e36eae4447e88279706e30fff37"
          }
        },
        "bf865c3886aa43e987edf27fb38ef92d": {
          "model_module": "@jupyter-widgets/controls",
          "model_name": "HTMLModel",
          "state": {
            "_view_name": "HTMLView",
            "style": "IPY_MODEL_5d5147f0906b4eeeaaa116fb4e341740",
            "_dom_classes": [],
            "description": "",
            "_model_name": "HTMLModel",
            "placeholder": "​",
            "_view_module": "@jupyter-widgets/controls",
            "_model_module_version": "1.5.0",
            "value": " 6857/6857 [16:22&lt;00:00,  6.98it/s]",
            "_view_count": null,
            "_view_module_version": "1.5.0",
            "description_tooltip": null,
            "_model_module": "@jupyter-widgets/controls",
            "layout": "IPY_MODEL_5cafede43e9b44d0a52b6b5d569e3b1a"
          }
        },
        "8b7c1fcd4cc6452f8aec9204539dfdf2": {
          "model_module": "@jupyter-widgets/controls",
          "model_name": "ProgressStyleModel",
          "state": {
            "_view_name": "StyleView",
            "_model_name": "ProgressStyleModel",
            "description_width": "initial",
            "_view_module": "@jupyter-widgets/base",
            "_model_module_version": "1.5.0",
            "_view_count": null,
            "_view_module_version": "1.2.0",
            "bar_color": null,
            "_model_module": "@jupyter-widgets/controls"
          }
        },
        "49ba5e36eae4447e88279706e30fff37": {
          "model_module": "@jupyter-widgets/base",
          "model_name": "LayoutModel",
          "state": {
            "_view_name": "LayoutView",
            "grid_template_rows": null,
            "right": null,
            "justify_content": null,
            "_view_module": "@jupyter-widgets/base",
            "overflow": null,
            "_model_module_version": "1.2.0",
            "_view_count": null,
            "flex_flow": null,
            "width": null,
            "min_width": null,
            "border": null,
            "align_items": null,
            "bottom": null,
            "_model_module": "@jupyter-widgets/base",
            "top": null,
            "grid_column": null,
            "overflow_y": null,
            "overflow_x": null,
            "grid_auto_flow": null,
            "grid_area": null,
            "grid_template_columns": null,
            "flex": null,
            "_model_name": "LayoutModel",
            "justify_items": null,
            "grid_row": null,
            "max_height": null,
            "align_content": null,
            "visibility": null,
            "align_self": null,
            "height": null,
            "min_height": null,
            "padding": null,
            "grid_auto_rows": null,
            "grid_gap": null,
            "max_width": null,
            "order": null,
            "_view_module_version": "1.2.0",
            "grid_template_areas": null,
            "object_position": null,
            "object_fit": null,
            "grid_auto_columns": null,
            "margin": null,
            "display": null,
            "left": null
          }
        },
        "5d5147f0906b4eeeaaa116fb4e341740": {
          "model_module": "@jupyter-widgets/controls",
          "model_name": "DescriptionStyleModel",
          "state": {
            "_view_name": "StyleView",
            "_model_name": "DescriptionStyleModel",
            "description_width": "",
            "_view_module": "@jupyter-widgets/base",
            "_model_module_version": "1.5.0",
            "_view_count": null,
            "_view_module_version": "1.2.0",
            "_model_module": "@jupyter-widgets/controls"
          }
        },
        "5cafede43e9b44d0a52b6b5d569e3b1a": {
          "model_module": "@jupyter-widgets/base",
          "model_name": "LayoutModel",
          "state": {
            "_view_name": "LayoutView",
            "grid_template_rows": null,
            "right": null,
            "justify_content": null,
            "_view_module": "@jupyter-widgets/base",
            "overflow": null,
            "_model_module_version": "1.2.0",
            "_view_count": null,
            "flex_flow": null,
            "width": null,
            "min_width": null,
            "border": null,
            "align_items": null,
            "bottom": null,
            "_model_module": "@jupyter-widgets/base",
            "top": null,
            "grid_column": null,
            "overflow_y": null,
            "overflow_x": null,
            "grid_auto_flow": null,
            "grid_area": null,
            "grid_template_columns": null,
            "flex": null,
            "_model_name": "LayoutModel",
            "justify_items": null,
            "grid_row": null,
            "max_height": null,
            "align_content": null,
            "visibility": null,
            "align_self": null,
            "height": null,
            "min_height": null,
            "padding": null,
            "grid_auto_rows": null,
            "grid_gap": null,
            "max_width": null,
            "order": null,
            "_view_module_version": "1.2.0",
            "grid_template_areas": null,
            "object_position": null,
            "object_fit": null,
            "grid_auto_columns": null,
            "margin": null,
            "display": null,
            "left": null
          }
        },
        "172681bd01e24ad9b1b5a853d53c9c3e": {
          "model_module": "@jupyter-widgets/controls",
          "model_name": "HBoxModel",
          "state": {
            "_view_name": "HBoxView",
            "_dom_classes": [],
            "_model_name": "HBoxModel",
            "_view_module": "@jupyter-widgets/controls",
            "_model_module_version": "1.5.0",
            "_view_count": null,
            "_view_module_version": "1.5.0",
            "box_style": "",
            "layout": "IPY_MODEL_5dcb786e76f841469c5b3b9d37ae745c",
            "_model_module": "@jupyter-widgets/controls",
            "children": [
              "IPY_MODEL_f3936fc34ada4ff8a21bf1d67734e7ad",
              "IPY_MODEL_783cf193cdc541adb26d6898e70d51a6"
            ]
          }
        },
        "5dcb786e76f841469c5b3b9d37ae745c": {
          "model_module": "@jupyter-widgets/base",
          "model_name": "LayoutModel",
          "state": {
            "_view_name": "LayoutView",
            "grid_template_rows": null,
            "right": null,
            "justify_content": null,
            "_view_module": "@jupyter-widgets/base",
            "overflow": null,
            "_model_module_version": "1.2.0",
            "_view_count": null,
            "flex_flow": null,
            "width": null,
            "min_width": null,
            "border": null,
            "align_items": null,
            "bottom": null,
            "_model_module": "@jupyter-widgets/base",
            "top": null,
            "grid_column": null,
            "overflow_y": null,
            "overflow_x": null,
            "grid_auto_flow": null,
            "grid_area": null,
            "grid_template_columns": null,
            "flex": null,
            "_model_name": "LayoutModel",
            "justify_items": null,
            "grid_row": null,
            "max_height": null,
            "align_content": null,
            "visibility": null,
            "align_self": null,
            "height": null,
            "min_height": null,
            "padding": null,
            "grid_auto_rows": null,
            "grid_gap": null,
            "max_width": null,
            "order": null,
            "_view_module_version": "1.2.0",
            "grid_template_areas": null,
            "object_position": null,
            "object_fit": null,
            "grid_auto_columns": null,
            "margin": null,
            "display": null,
            "left": null
          }
        },
        "f3936fc34ada4ff8a21bf1d67734e7ad": {
          "model_module": "@jupyter-widgets/controls",
          "model_name": "FloatProgressModel",
          "state": {
            "_view_name": "ProgressView",
            "style": "IPY_MODEL_98636544256f4d1db40a17c6e139c0bb",
            "_dom_classes": [],
            "description": "100%",
            "_model_name": "FloatProgressModel",
            "bar_style": "success",
            "max": 6857,
            "_view_module": "@jupyter-widgets/controls",
            "_model_module_version": "1.5.0",
            "value": 6857,
            "_view_count": null,
            "_view_module_version": "1.5.0",
            "orientation": "horizontal",
            "min": 0,
            "description_tooltip": null,
            "_model_module": "@jupyter-widgets/controls",
            "layout": "IPY_MODEL_4b8fbedb196943d8a11751b4b33a29df"
          }
        },
        "783cf193cdc541adb26d6898e70d51a6": {
          "model_module": "@jupyter-widgets/controls",
          "model_name": "HTMLModel",
          "state": {
            "_view_name": "HTMLView",
            "style": "IPY_MODEL_7e0b0612502b4c91bf3016859c4ce8b7",
            "_dom_classes": [],
            "description": "",
            "_model_name": "HTMLModel",
            "placeholder": "​",
            "_view_module": "@jupyter-widgets/controls",
            "_model_module_version": "1.5.0",
            "value": " 6857/6857 [16:20&lt;00:00,  6.99it/s]",
            "_view_count": null,
            "_view_module_version": "1.5.0",
            "description_tooltip": null,
            "_model_module": "@jupyter-widgets/controls",
            "layout": "IPY_MODEL_be52ed4ff85a44068176b4d7714eda92"
          }
        },
        "98636544256f4d1db40a17c6e139c0bb": {
          "model_module": "@jupyter-widgets/controls",
          "model_name": "ProgressStyleModel",
          "state": {
            "_view_name": "StyleView",
            "_model_name": "ProgressStyleModel",
            "description_width": "initial",
            "_view_module": "@jupyter-widgets/base",
            "_model_module_version": "1.5.0",
            "_view_count": null,
            "_view_module_version": "1.2.0",
            "bar_color": null,
            "_model_module": "@jupyter-widgets/controls"
          }
        },
        "4b8fbedb196943d8a11751b4b33a29df": {
          "model_module": "@jupyter-widgets/base",
          "model_name": "LayoutModel",
          "state": {
            "_view_name": "LayoutView",
            "grid_template_rows": null,
            "right": null,
            "justify_content": null,
            "_view_module": "@jupyter-widgets/base",
            "overflow": null,
            "_model_module_version": "1.2.0",
            "_view_count": null,
            "flex_flow": null,
            "width": null,
            "min_width": null,
            "border": null,
            "align_items": null,
            "bottom": null,
            "_model_module": "@jupyter-widgets/base",
            "top": null,
            "grid_column": null,
            "overflow_y": null,
            "overflow_x": null,
            "grid_auto_flow": null,
            "grid_area": null,
            "grid_template_columns": null,
            "flex": null,
            "_model_name": "LayoutModel",
            "justify_items": null,
            "grid_row": null,
            "max_height": null,
            "align_content": null,
            "visibility": null,
            "align_self": null,
            "height": null,
            "min_height": null,
            "padding": null,
            "grid_auto_rows": null,
            "grid_gap": null,
            "max_width": null,
            "order": null,
            "_view_module_version": "1.2.0",
            "grid_template_areas": null,
            "object_position": null,
            "object_fit": null,
            "grid_auto_columns": null,
            "margin": null,
            "display": null,
            "left": null
          }
        },
        "7e0b0612502b4c91bf3016859c4ce8b7": {
          "model_module": "@jupyter-widgets/controls",
          "model_name": "DescriptionStyleModel",
          "state": {
            "_view_name": "StyleView",
            "_model_name": "DescriptionStyleModel",
            "description_width": "",
            "_view_module": "@jupyter-widgets/base",
            "_model_module_version": "1.5.0",
            "_view_count": null,
            "_view_module_version": "1.2.0",
            "_model_module": "@jupyter-widgets/controls"
          }
        },
        "be52ed4ff85a44068176b4d7714eda92": {
          "model_module": "@jupyter-widgets/base",
          "model_name": "LayoutModel",
          "state": {
            "_view_name": "LayoutView",
            "grid_template_rows": null,
            "right": null,
            "justify_content": null,
            "_view_module": "@jupyter-widgets/base",
            "overflow": null,
            "_model_module_version": "1.2.0",
            "_view_count": null,
            "flex_flow": null,
            "width": null,
            "min_width": null,
            "border": null,
            "align_items": null,
            "bottom": null,
            "_model_module": "@jupyter-widgets/base",
            "top": null,
            "grid_column": null,
            "overflow_y": null,
            "overflow_x": null,
            "grid_auto_flow": null,
            "grid_area": null,
            "grid_template_columns": null,
            "flex": null,
            "_model_name": "LayoutModel",
            "justify_items": null,
            "grid_row": null,
            "max_height": null,
            "align_content": null,
            "visibility": null,
            "align_self": null,
            "height": null,
            "min_height": null,
            "padding": null,
            "grid_auto_rows": null,
            "grid_gap": null,
            "max_width": null,
            "order": null,
            "_view_module_version": "1.2.0",
            "grid_template_areas": null,
            "object_position": null,
            "object_fit": null,
            "grid_auto_columns": null,
            "margin": null,
            "display": null,
            "left": null
          }
        },
        "cd313ea100c54a3790d1f9e10bce045a": {
          "model_module": "@jupyter-widgets/controls",
          "model_name": "HBoxModel",
          "state": {
            "_view_name": "HBoxView",
            "_dom_classes": [],
            "_model_name": "HBoxModel",
            "_view_module": "@jupyter-widgets/controls",
            "_model_module_version": "1.5.0",
            "_view_count": null,
            "_view_module_version": "1.5.0",
            "box_style": "",
            "layout": "IPY_MODEL_51c7decacd9d451ba8e99ea115b76f73",
            "_model_module": "@jupyter-widgets/controls",
            "children": [
              "IPY_MODEL_c38559eb0a534a509ccaa6e3ba071dd1",
              "IPY_MODEL_4fb19e88de4d4a6da862e32cbba9c965"
            ]
          }
        },
        "51c7decacd9d451ba8e99ea115b76f73": {
          "model_module": "@jupyter-widgets/base",
          "model_name": "LayoutModel",
          "state": {
            "_view_name": "LayoutView",
            "grid_template_rows": null,
            "right": null,
            "justify_content": null,
            "_view_module": "@jupyter-widgets/base",
            "overflow": null,
            "_model_module_version": "1.2.0",
            "_view_count": null,
            "flex_flow": null,
            "width": null,
            "min_width": null,
            "border": null,
            "align_items": null,
            "bottom": null,
            "_model_module": "@jupyter-widgets/base",
            "top": null,
            "grid_column": null,
            "overflow_y": null,
            "overflow_x": null,
            "grid_auto_flow": null,
            "grid_area": null,
            "grid_template_columns": null,
            "flex": null,
            "_model_name": "LayoutModel",
            "justify_items": null,
            "grid_row": null,
            "max_height": null,
            "align_content": null,
            "visibility": null,
            "align_self": null,
            "height": null,
            "min_height": null,
            "padding": null,
            "grid_auto_rows": null,
            "grid_gap": null,
            "max_width": null,
            "order": null,
            "_view_module_version": "1.2.0",
            "grid_template_areas": null,
            "object_position": null,
            "object_fit": null,
            "grid_auto_columns": null,
            "margin": null,
            "display": null,
            "left": null
          }
        },
        "c38559eb0a534a509ccaa6e3ba071dd1": {
          "model_module": "@jupyter-widgets/controls",
          "model_name": "FloatProgressModel",
          "state": {
            "_view_name": "ProgressView",
            "style": "IPY_MODEL_6356c51bfb51440fb102264ef5cfd294",
            "_dom_classes": [],
            "description": "100%",
            "_model_name": "FloatProgressModel",
            "bar_style": "success",
            "max": 6857,
            "_view_module": "@jupyter-widgets/controls",
            "_model_module_version": "1.5.0",
            "value": 6857,
            "_view_count": null,
            "_view_module_version": "1.5.0",
            "orientation": "horizontal",
            "min": 0,
            "description_tooltip": null,
            "_model_module": "@jupyter-widgets/controls",
            "layout": "IPY_MODEL_460fa6b62c7040c08e3b7e2b78afedd1"
          }
        },
        "4fb19e88de4d4a6da862e32cbba9c965": {
          "model_module": "@jupyter-widgets/controls",
          "model_name": "HTMLModel",
          "state": {
            "_view_name": "HTMLView",
            "style": "IPY_MODEL_fcb9045ced6c47b3855f9d24e61a7edf",
            "_dom_classes": [],
            "description": "",
            "_model_name": "HTMLModel",
            "placeholder": "​",
            "_view_module": "@jupyter-widgets/controls",
            "_model_module_version": "1.5.0",
            "value": " 6857/6857 [16:28&lt;00:00,  6.94it/s]",
            "_view_count": null,
            "_view_module_version": "1.5.0",
            "description_tooltip": null,
            "_model_module": "@jupyter-widgets/controls",
            "layout": "IPY_MODEL_23fcbfb5429749669db2c3392417ecb4"
          }
        },
        "6356c51bfb51440fb102264ef5cfd294": {
          "model_module": "@jupyter-widgets/controls",
          "model_name": "ProgressStyleModel",
          "state": {
            "_view_name": "StyleView",
            "_model_name": "ProgressStyleModel",
            "description_width": "initial",
            "_view_module": "@jupyter-widgets/base",
            "_model_module_version": "1.5.0",
            "_view_count": null,
            "_view_module_version": "1.2.0",
            "bar_color": null,
            "_model_module": "@jupyter-widgets/controls"
          }
        },
        "460fa6b62c7040c08e3b7e2b78afedd1": {
          "model_module": "@jupyter-widgets/base",
          "model_name": "LayoutModel",
          "state": {
            "_view_name": "LayoutView",
            "grid_template_rows": null,
            "right": null,
            "justify_content": null,
            "_view_module": "@jupyter-widgets/base",
            "overflow": null,
            "_model_module_version": "1.2.0",
            "_view_count": null,
            "flex_flow": null,
            "width": null,
            "min_width": null,
            "border": null,
            "align_items": null,
            "bottom": null,
            "_model_module": "@jupyter-widgets/base",
            "top": null,
            "grid_column": null,
            "overflow_y": null,
            "overflow_x": null,
            "grid_auto_flow": null,
            "grid_area": null,
            "grid_template_columns": null,
            "flex": null,
            "_model_name": "LayoutModel",
            "justify_items": null,
            "grid_row": null,
            "max_height": null,
            "align_content": null,
            "visibility": null,
            "align_self": null,
            "height": null,
            "min_height": null,
            "padding": null,
            "grid_auto_rows": null,
            "grid_gap": null,
            "max_width": null,
            "order": null,
            "_view_module_version": "1.2.0",
            "grid_template_areas": null,
            "object_position": null,
            "object_fit": null,
            "grid_auto_columns": null,
            "margin": null,
            "display": null,
            "left": null
          }
        },
        "fcb9045ced6c47b3855f9d24e61a7edf": {
          "model_module": "@jupyter-widgets/controls",
          "model_name": "DescriptionStyleModel",
          "state": {
            "_view_name": "StyleView",
            "_model_name": "DescriptionStyleModel",
            "description_width": "",
            "_view_module": "@jupyter-widgets/base",
            "_model_module_version": "1.5.0",
            "_view_count": null,
            "_view_module_version": "1.2.0",
            "_model_module": "@jupyter-widgets/controls"
          }
        },
        "23fcbfb5429749669db2c3392417ecb4": {
          "model_module": "@jupyter-widgets/base",
          "model_name": "LayoutModel",
          "state": {
            "_view_name": "LayoutView",
            "grid_template_rows": null,
            "right": null,
            "justify_content": null,
            "_view_module": "@jupyter-widgets/base",
            "overflow": null,
            "_model_module_version": "1.2.0",
            "_view_count": null,
            "flex_flow": null,
            "width": null,
            "min_width": null,
            "border": null,
            "align_items": null,
            "bottom": null,
            "_model_module": "@jupyter-widgets/base",
            "top": null,
            "grid_column": null,
            "overflow_y": null,
            "overflow_x": null,
            "grid_auto_flow": null,
            "grid_area": null,
            "grid_template_columns": null,
            "flex": null,
            "_model_name": "LayoutModel",
            "justify_items": null,
            "grid_row": null,
            "max_height": null,
            "align_content": null,
            "visibility": null,
            "align_self": null,
            "height": null,
            "min_height": null,
            "padding": null,
            "grid_auto_rows": null,
            "grid_gap": null,
            "max_width": null,
            "order": null,
            "_view_module_version": "1.2.0",
            "grid_template_areas": null,
            "object_position": null,
            "object_fit": null,
            "grid_auto_columns": null,
            "margin": null,
            "display": null,
            "left": null
          }
        },
        "602a8ad7d6494ec1860e772a6fe56c57": {
          "model_module": "@jupyter-widgets/controls",
          "model_name": "HBoxModel",
          "state": {
            "_view_name": "HBoxView",
            "_dom_classes": [],
            "_model_name": "HBoxModel",
            "_view_module": "@jupyter-widgets/controls",
            "_model_module_version": "1.5.0",
            "_view_count": null,
            "_view_module_version": "1.5.0",
            "box_style": "",
            "layout": "IPY_MODEL_31adce0c779048b399b9060d37091f9d",
            "_model_module": "@jupyter-widgets/controls",
            "children": [
              "IPY_MODEL_a9244096adfd43fea8adbc170bb2fbc8",
              "IPY_MODEL_5c3219cd34444102a80b3af985e18c51"
            ]
          }
        },
        "31adce0c779048b399b9060d37091f9d": {
          "model_module": "@jupyter-widgets/base",
          "model_name": "LayoutModel",
          "state": {
            "_view_name": "LayoutView",
            "grid_template_rows": null,
            "right": null,
            "justify_content": null,
            "_view_module": "@jupyter-widgets/base",
            "overflow": null,
            "_model_module_version": "1.2.0",
            "_view_count": null,
            "flex_flow": null,
            "width": null,
            "min_width": null,
            "border": null,
            "align_items": null,
            "bottom": null,
            "_model_module": "@jupyter-widgets/base",
            "top": null,
            "grid_column": null,
            "overflow_y": null,
            "overflow_x": null,
            "grid_auto_flow": null,
            "grid_area": null,
            "grid_template_columns": null,
            "flex": null,
            "_model_name": "LayoutModel",
            "justify_items": null,
            "grid_row": null,
            "max_height": null,
            "align_content": null,
            "visibility": null,
            "align_self": null,
            "height": null,
            "min_height": null,
            "padding": null,
            "grid_auto_rows": null,
            "grid_gap": null,
            "max_width": null,
            "order": null,
            "_view_module_version": "1.2.0",
            "grid_template_areas": null,
            "object_position": null,
            "object_fit": null,
            "grid_auto_columns": null,
            "margin": null,
            "display": null,
            "left": null
          }
        },
        "a9244096adfd43fea8adbc170bb2fbc8": {
          "model_module": "@jupyter-widgets/controls",
          "model_name": "FloatProgressModel",
          "state": {
            "_view_name": "ProgressView",
            "style": "IPY_MODEL_909602eac7534b12918173381c400e1a",
            "_dom_classes": [],
            "description": "100%",
            "_model_name": "FloatProgressModel",
            "bar_style": "success",
            "max": 6857,
            "_view_module": "@jupyter-widgets/controls",
            "_model_module_version": "1.5.0",
            "value": 6857,
            "_view_count": null,
            "_view_module_version": "1.5.0",
            "orientation": "horizontal",
            "min": 0,
            "description_tooltip": null,
            "_model_module": "@jupyter-widgets/controls",
            "layout": "IPY_MODEL_8502ba56eb78453a8a0c69b97448f4bb"
          }
        },
        "5c3219cd34444102a80b3af985e18c51": {
          "model_module": "@jupyter-widgets/controls",
          "model_name": "HTMLModel",
          "state": {
            "_view_name": "HTMLView",
            "style": "IPY_MODEL_86c64a9e37ef44dc8b407f176bfc6d99",
            "_dom_classes": [],
            "description": "",
            "_model_name": "HTMLModel",
            "placeholder": "​",
            "_view_module": "@jupyter-widgets/controls",
            "_model_module_version": "1.5.0",
            "value": " 6857/6857 [16:20&lt;00:00,  6.99it/s]",
            "_view_count": null,
            "_view_module_version": "1.5.0",
            "description_tooltip": null,
            "_model_module": "@jupyter-widgets/controls",
            "layout": "IPY_MODEL_feb5d3e753be4b54aa21255a701c6abb"
          }
        },
        "909602eac7534b12918173381c400e1a": {
          "model_module": "@jupyter-widgets/controls",
          "model_name": "ProgressStyleModel",
          "state": {
            "_view_name": "StyleView",
            "_model_name": "ProgressStyleModel",
            "description_width": "initial",
            "_view_module": "@jupyter-widgets/base",
            "_model_module_version": "1.5.0",
            "_view_count": null,
            "_view_module_version": "1.2.0",
            "bar_color": null,
            "_model_module": "@jupyter-widgets/controls"
          }
        },
        "8502ba56eb78453a8a0c69b97448f4bb": {
          "model_module": "@jupyter-widgets/base",
          "model_name": "LayoutModel",
          "state": {
            "_view_name": "LayoutView",
            "grid_template_rows": null,
            "right": null,
            "justify_content": null,
            "_view_module": "@jupyter-widgets/base",
            "overflow": null,
            "_model_module_version": "1.2.0",
            "_view_count": null,
            "flex_flow": null,
            "width": null,
            "min_width": null,
            "border": null,
            "align_items": null,
            "bottom": null,
            "_model_module": "@jupyter-widgets/base",
            "top": null,
            "grid_column": null,
            "overflow_y": null,
            "overflow_x": null,
            "grid_auto_flow": null,
            "grid_area": null,
            "grid_template_columns": null,
            "flex": null,
            "_model_name": "LayoutModel",
            "justify_items": null,
            "grid_row": null,
            "max_height": null,
            "align_content": null,
            "visibility": null,
            "align_self": null,
            "height": null,
            "min_height": null,
            "padding": null,
            "grid_auto_rows": null,
            "grid_gap": null,
            "max_width": null,
            "order": null,
            "_view_module_version": "1.2.0",
            "grid_template_areas": null,
            "object_position": null,
            "object_fit": null,
            "grid_auto_columns": null,
            "margin": null,
            "display": null,
            "left": null
          }
        },
        "86c64a9e37ef44dc8b407f176bfc6d99": {
          "model_module": "@jupyter-widgets/controls",
          "model_name": "DescriptionStyleModel",
          "state": {
            "_view_name": "StyleView",
            "_model_name": "DescriptionStyleModel",
            "description_width": "",
            "_view_module": "@jupyter-widgets/base",
            "_model_module_version": "1.5.0",
            "_view_count": null,
            "_view_module_version": "1.2.0",
            "_model_module": "@jupyter-widgets/controls"
          }
        },
        "feb5d3e753be4b54aa21255a701c6abb": {
          "model_module": "@jupyter-widgets/base",
          "model_name": "LayoutModel",
          "state": {
            "_view_name": "LayoutView",
            "grid_template_rows": null,
            "right": null,
            "justify_content": null,
            "_view_module": "@jupyter-widgets/base",
            "overflow": null,
            "_model_module_version": "1.2.0",
            "_view_count": null,
            "flex_flow": null,
            "width": null,
            "min_width": null,
            "border": null,
            "align_items": null,
            "bottom": null,
            "_model_module": "@jupyter-widgets/base",
            "top": null,
            "grid_column": null,
            "overflow_y": null,
            "overflow_x": null,
            "grid_auto_flow": null,
            "grid_area": null,
            "grid_template_columns": null,
            "flex": null,
            "_model_name": "LayoutModel",
            "justify_items": null,
            "grid_row": null,
            "max_height": null,
            "align_content": null,
            "visibility": null,
            "align_self": null,
            "height": null,
            "min_height": null,
            "padding": null,
            "grid_auto_rows": null,
            "grid_gap": null,
            "max_width": null,
            "order": null,
            "_view_module_version": "1.2.0",
            "grid_template_areas": null,
            "object_position": null,
            "object_fit": null,
            "grid_auto_columns": null,
            "margin": null,
            "display": null,
            "left": null
          }
        },
        "795c4e588e774a6187d0f29df00c07c5": {
          "model_module": "@jupyter-widgets/controls",
          "model_name": "HBoxModel",
          "state": {
            "_view_name": "HBoxView",
            "_dom_classes": [],
            "_model_name": "HBoxModel",
            "_view_module": "@jupyter-widgets/controls",
            "_model_module_version": "1.5.0",
            "_view_count": null,
            "_view_module_version": "1.5.0",
            "box_style": "",
            "layout": "IPY_MODEL_548725166c3a4e348cf20f403b77eb07",
            "_model_module": "@jupyter-widgets/controls",
            "children": [
              "IPY_MODEL_559c1f86ede24f339a0db634d7949f48",
              "IPY_MODEL_622693ed03a64c08a9b8164fdee2481f"
            ]
          }
        },
        "548725166c3a4e348cf20f403b77eb07": {
          "model_module": "@jupyter-widgets/base",
          "model_name": "LayoutModel",
          "state": {
            "_view_name": "LayoutView",
            "grid_template_rows": null,
            "right": null,
            "justify_content": null,
            "_view_module": "@jupyter-widgets/base",
            "overflow": null,
            "_model_module_version": "1.2.0",
            "_view_count": null,
            "flex_flow": null,
            "width": null,
            "min_width": null,
            "border": null,
            "align_items": null,
            "bottom": null,
            "_model_module": "@jupyter-widgets/base",
            "top": null,
            "grid_column": null,
            "overflow_y": null,
            "overflow_x": null,
            "grid_auto_flow": null,
            "grid_area": null,
            "grid_template_columns": null,
            "flex": null,
            "_model_name": "LayoutModel",
            "justify_items": null,
            "grid_row": null,
            "max_height": null,
            "align_content": null,
            "visibility": null,
            "align_self": null,
            "height": null,
            "min_height": null,
            "padding": null,
            "grid_auto_rows": null,
            "grid_gap": null,
            "max_width": null,
            "order": null,
            "_view_module_version": "1.2.0",
            "grid_template_areas": null,
            "object_position": null,
            "object_fit": null,
            "grid_auto_columns": null,
            "margin": null,
            "display": null,
            "left": null
          }
        },
        "559c1f86ede24f339a0db634d7949f48": {
          "model_module": "@jupyter-widgets/controls",
          "model_name": "FloatProgressModel",
          "state": {
            "_view_name": "ProgressView",
            "style": "IPY_MODEL_5ec384fc776c4ec990287e1d32a6f41d",
            "_dom_classes": [],
            "description": "  1%",
            "_model_name": "FloatProgressModel",
            "bar_style": "",
            "max": 6857,
            "_view_module": "@jupyter-widgets/controls",
            "_model_module_version": "1.5.0",
            "value": 53,
            "_view_count": null,
            "_view_module_version": "1.5.0",
            "orientation": "horizontal",
            "min": 0,
            "description_tooltip": null,
            "_model_module": "@jupyter-widgets/controls",
            "layout": "IPY_MODEL_76bdb9a12f4546feab4f055006626d48"
          }
        },
        "622693ed03a64c08a9b8164fdee2481f": {
          "model_module": "@jupyter-widgets/controls",
          "model_name": "HTMLModel",
          "state": {
            "_view_name": "HTMLView",
            "style": "IPY_MODEL_e02aec39ed8046f897f65b6baf10da12",
            "_dom_classes": [],
            "description": "",
            "_model_name": "HTMLModel",
            "placeholder": "​",
            "_view_module": "@jupyter-widgets/controls",
            "_model_module_version": "1.5.0",
            "value": " 53/6857 [00:07&lt;16:11,  7.00it/s]",
            "_view_count": null,
            "_view_module_version": "1.5.0",
            "description_tooltip": null,
            "_model_module": "@jupyter-widgets/controls",
            "layout": "IPY_MODEL_f9d7142c12d0450aac85abcdd90f6f3e"
          }
        },
        "5ec384fc776c4ec990287e1d32a6f41d": {
          "model_module": "@jupyter-widgets/controls",
          "model_name": "ProgressStyleModel",
          "state": {
            "_view_name": "StyleView",
            "_model_name": "ProgressStyleModel",
            "description_width": "initial",
            "_view_module": "@jupyter-widgets/base",
            "_model_module_version": "1.5.0",
            "_view_count": null,
            "_view_module_version": "1.2.0",
            "bar_color": null,
            "_model_module": "@jupyter-widgets/controls"
          }
        },
        "76bdb9a12f4546feab4f055006626d48": {
          "model_module": "@jupyter-widgets/base",
          "model_name": "LayoutModel",
          "state": {
            "_view_name": "LayoutView",
            "grid_template_rows": null,
            "right": null,
            "justify_content": null,
            "_view_module": "@jupyter-widgets/base",
            "overflow": null,
            "_model_module_version": "1.2.0",
            "_view_count": null,
            "flex_flow": null,
            "width": null,
            "min_width": null,
            "border": null,
            "align_items": null,
            "bottom": null,
            "_model_module": "@jupyter-widgets/base",
            "top": null,
            "grid_column": null,
            "overflow_y": null,
            "overflow_x": null,
            "grid_auto_flow": null,
            "grid_area": null,
            "grid_template_columns": null,
            "flex": null,
            "_model_name": "LayoutModel",
            "justify_items": null,
            "grid_row": null,
            "max_height": null,
            "align_content": null,
            "visibility": null,
            "align_self": null,
            "height": null,
            "min_height": null,
            "padding": null,
            "grid_auto_rows": null,
            "grid_gap": null,
            "max_width": null,
            "order": null,
            "_view_module_version": "1.2.0",
            "grid_template_areas": null,
            "object_position": null,
            "object_fit": null,
            "grid_auto_columns": null,
            "margin": null,
            "display": null,
            "left": null
          }
        },
        "e02aec39ed8046f897f65b6baf10da12": {
          "model_module": "@jupyter-widgets/controls",
          "model_name": "DescriptionStyleModel",
          "state": {
            "_view_name": "StyleView",
            "_model_name": "DescriptionStyleModel",
            "description_width": "",
            "_view_module": "@jupyter-widgets/base",
            "_model_module_version": "1.5.0",
            "_view_count": null,
            "_view_module_version": "1.2.0",
            "_model_module": "@jupyter-widgets/controls"
          }
        },
        "f9d7142c12d0450aac85abcdd90f6f3e": {
          "model_module": "@jupyter-widgets/base",
          "model_name": "LayoutModel",
          "state": {
            "_view_name": "LayoutView",
            "grid_template_rows": null,
            "right": null,
            "justify_content": null,
            "_view_module": "@jupyter-widgets/base",
            "overflow": null,
            "_model_module_version": "1.2.0",
            "_view_count": null,
            "flex_flow": null,
            "width": null,
            "min_width": null,
            "border": null,
            "align_items": null,
            "bottom": null,
            "_model_module": "@jupyter-widgets/base",
            "top": null,
            "grid_column": null,
            "overflow_y": null,
            "overflow_x": null,
            "grid_auto_flow": null,
            "grid_area": null,
            "grid_template_columns": null,
            "flex": null,
            "_model_name": "LayoutModel",
            "justify_items": null,
            "grid_row": null,
            "max_height": null,
            "align_content": null,
            "visibility": null,
            "align_self": null,
            "height": null,
            "min_height": null,
            "padding": null,
            "grid_auto_rows": null,
            "grid_gap": null,
            "max_width": null,
            "order": null,
            "_view_module_version": "1.2.0",
            "grid_template_areas": null,
            "object_position": null,
            "object_fit": null,
            "grid_auto_columns": null,
            "margin": null,
            "display": null,
            "left": null
          }
        }
      }
    }
  },
  "cells": [
    {
      "cell_type": "markdown",
      "metadata": {
        "id": "view-in-github",
        "colab_type": "text"
      },
      "source": [
        "<a href=\"https://colab.research.google.com/github/tasuni/Music-Generation/blob/main/Music_Synthesis.ipynb\" target=\"_parent\"><img src=\"https://colab.research.google.com/assets/colab-badge.svg\" alt=\"Open In Colab\"/></a>"
      ]
    },
    {
      "cell_type": "markdown",
      "metadata": {
        "id": "spsAR0xfYq1J"
      },
      "source": [
        "# Music Synthesis\r\n",
        "\r\n",
        "\r\n"
      ]
    },
    {
      "cell_type": "markdown",
      "metadata": {
        "id": "JVT1sBNGLlT0"
      },
      "source": [
        "\r\n",
        "TO-DO: \r\n",
        "\r\n",
        "---\r\n",
        "\r\n",
        "1.   ~Figure out a way to represent data~\r\n",
        "2.   ~Build base LSTM~\r\n",
        "3.   ~Sample new sequences from the model~\r\n",
        "4.   ~Try Embeddings~\r\n",
        "5.   Try Stratified split of some sort to better represent the model\r\n",
        "6.   Try Advanced Sequence Generation Models\r\n",
        "7.   Try mixing genres\r\n",
        "8.   Try to introduce the temporal aspect"
      ]
    },
    {
      "cell_type": "markdown",
      "metadata": {
        "id": "yTV3CMCbYuLc"
      },
      "source": [
        "### Imports"
      ]
    },
    {
      "cell_type": "code",
      "metadata": {
        "id": "phRRKhcmYmp9"
      },
      "source": [
        "import glob\r\n",
        "from tqdm.notebook import tqdm\r\n",
        "import pickle\r\n",
        "\r\n",
        "import torch\r\n",
        "import torch.nn as nn\r\n",
        "import torch.nn.functional as F\r\n",
        "from torch.utils.data import TensorDataset, DataLoader\r\n",
        "import torch.optim as optim\r\n",
        "from sklearn.model_selection import train_test_split\r\n",
        "\r\n",
        "from music21 import note, chord, converter, stream, instrument, midi\r\n",
        "\r\n",
        "import pandas as pd\r\n",
        "import numpy as np\r\n",
        "import matplotlib.pyplot as plt\r\n",
        "import seaborn as sns"
      ],
      "execution_count": null,
      "outputs": []
    },
    {
      "cell_type": "code",
      "metadata": {
        "id": "QjUy8tgqlRo0"
      },
      "source": [
        "# Specify device for the model to run on\r\n",
        "device = \"cuda\" if torch.cuda.is_available() else \"cpu\""
      ],
      "execution_count": null,
      "outputs": []
    },
    {
      "cell_type": "markdown",
      "metadata": {
        "id": "QmbG3kLhZR9v"
      },
      "source": [
        "### Loading Dataset"
      ]
    },
    {
      "cell_type": "code",
      "metadata": {
        "id": "SUtWs-T3ZM4Q"
      },
      "source": [
        "!mkdir dataset"
      ],
      "execution_count": null,
      "outputs": []
    },
    {
      "cell_type": "code",
      "metadata": {
        "id": "rbGpoyaC5sRC",
        "colab": {
          "base_uri": "https://localhost:8080/"
        },
        "outputId": "a4814413-de96-4caa-a8a9-3256767ffa45"
      },
      "source": [
        "!unzip -q all_artists.zip"
      ],
      "execution_count": null,
      "outputs": [
        {
          "output_type": "stream",
          "text": [
            "unzip:  cannot find or open all_artists.zip, all_artists.zip.zip or all_artists.zip.ZIP.\n"
          ],
          "name": "stdout"
        }
      ]
    },
    {
      "cell_type": "code",
      "metadata": {
        "id": "BgYaEkIDlhoI",
        "colab": {
          "base_uri": "https://localhost:8080/"
        },
        "outputId": "c92cc803-e8f5-4e4a-8912-e027f4259882"
      },
      "source": [
        "!unzip -q \\*.zip -x all_artists.zip -d dataset"
      ],
      "execution_count": null,
      "outputs": [
        {
          "output_type": "stream",
          "text": [
            "caution: excluded filename not matched:  all_artists.zip\n",
            "caution: excluded filename not matched:  all_artists.zip\n",
            "caution: excluded filename not matched:  all_artists.zip\n",
            "caution: excluded filename not matched:  all_artists.zip\n",
            "caution: excluded filename not matched:  all_artists.zip\n",
            "caution: excluded filename not matched:  all_artists.zip\n",
            "caution: excluded filename not matched:  all_artists.zip\n",
            "caution: excluded filename not matched:  all_artists.zip\n",
            "caution: excluded filename not matched:  all_artists.zip\n",
            "caution: excluded filename not matched:  all_artists.zip\n",
            "caution: excluded filename not matched:  all_artists.zip\n",
            "caution: excluded filename not matched:  all_artists.zip\n",
            "caution: excluded filename not matched:  all_artists.zip\n",
            "caution: excluded filename not matched:  all_artists.zip\n",
            "caution: excluded filename not matched:  all_artists.zip\n",
            "caution: excluded filename not matched:  all_artists.zip\n",
            "caution: excluded filename not matched:  all_artists.zip\n",
            "caution: excluded filename not matched:  all_artists.zip\n",
            "caution: excluded filename not matched:  all_artists.zip\n",
            "caution: excluded filename not matched:  all_artists.zip\n",
            "\n",
            "20 archives were successfully processed.\n"
          ],
          "name": "stdout"
        }
      ]
    },
    {
      "cell_type": "markdown",
      "metadata": {
        "id": "UQEiiB8pcBWt"
      },
      "source": [
        "### Preprocessing and Generating Dataset from raw midi"
      ]
    },
    {
      "cell_type": "code",
      "metadata": {
        "id": "hlourFo_cCDI"
      },
      "source": [
        "def get_notes(root):\r\n",
        "  \"\"\"\r\n",
        "  Returns a list of notes of all the songs in a root directory\r\n",
        "  Input : \r\n",
        "  root - root folder path\r\n",
        "  Output : \r\n",
        "  notes - A single list containing notes of all the songs in the root directory in a sequential manner.\r\n",
        "  \"\"\"\r\n",
        "  notes = []\r\n",
        "  unprocessed_notes = None\r\n",
        "\r\n",
        "  for midi_file in tqdm(glob.glob(f\"{root}/*.mid\")):\r\n",
        "    song = converter.parse(midi_file)\r\n",
        "\r\n",
        "    for component in song.recurse():\r\n",
        "      if isinstance(component, note.Note):\r\n",
        "        notes.append(component.name)\r\n",
        "      elif isinstance(component, chord.Chord):\r\n",
        "        notes.append(','.join(str(n) for n in component.normalOrder))\r\n",
        "  \r\n",
        "  return notes"
      ],
      "execution_count": null,
      "outputs": []
    },
    {
      "cell_type": "code",
      "metadata": {
        "id": "ExRm25ihi45f"
      },
      "source": [
        "def get_info(notes):\r\n",
        "  \"\"\"\r\n",
        "  Get a list of all unique notes, and dictionaries to convert notes to int and back\r\n",
        "  Input : \r\n",
        "  notes - A list of all the notes present in our music dataset\r\n",
        "  Output : \r\n",
        "  unique_notes - A list containing all the unique notes present in our dataset.\r\n",
        "  note_to_int  - A dictionary that maps a given note string to an int.\r\n",
        "  int_to_note  - A dictionary that maps a given int to a string.\r\n",
        "\r\n",
        "  NOTE:\r\n",
        "  If note_to_int[note_name] = i\r\n",
        "  Then, int_to_note[i] = note_name\r\n",
        "  \"\"\"\r\n",
        "\r\n",
        "  unique_notes = list(set(notes))\r\n",
        "  enumerated_uniques = enumerate(sorted(unique_notes))\r\n",
        "  note_to_int = dict((note, i) for i, note in enumerated_uniques)\r\n",
        "  enumerated_uniques = enumerate(sorted(unique_notes))\r\n",
        "  int_to_note = dict((i, note) for i, note in enumerated_uniques)\r\n",
        "\r\n",
        "  return unique_notes, note_to_int, int_to_note"
      ],
      "execution_count": null,
      "outputs": []
    },
    {
      "cell_type": "code",
      "metadata": {
        "id": "2zYQYYKVi6j8"
      },
      "source": [
        "def get_dataloader(notes, note_to_int, sequence_length, vocab_length, batch_size=64):\r\n",
        "  \"\"\"\r\n",
        "  Gets a dataloader object back, which is used to convert our dataset into batches\r\n",
        "\r\n",
        "  Input:\r\n",
        "  notes           - A list of all the notes present in our music dataset.\r\n",
        "  note_to_int     - A dictionary that maps a given note string to an int.\r\n",
        "  sequence_length - Number of notes in each sequence.\r\n",
        "  vocab_length    - Number of unique notes in the dataset\r\n",
        "  batch_size      - Batch size for training.\r\n",
        "\r\n",
        "  Output:\r\n",
        "  X      - List of input tensors, used for sampling later\r\n",
        "  loader - Dataloader object \r\n",
        "  \"\"\"\r\n",
        "  X = []\r\n",
        "  y = []\r\n",
        "  \r\n",
        "  # for the first x notes taken as input, get the next note as output\r\n",
        "  for i in range(0, len(notes) - sequence_length):\r\n",
        "    X.append([note_to_int[note] for note in notes[i : i + sequence_length]])\r\n",
        "    y.append(note_to_int[notes[i + sequence_length]])\r\n",
        "  \r\n",
        "  # split\r\n",
        "  X_train, X_test, y_train, y_test = train_test_split(X, y, test_size=0.15, shuffle=True)\r\n",
        "  \r\n",
        "  X_train = torch.tensor(X_train)\r\n",
        "  y_train = torch.tensor(y_train)\r\n",
        "\r\n",
        "  X_test = torch.tensor(X_test)\r\n",
        "  y_test = torch.tensor(y_test)\r\n",
        "\r\n",
        "\r\n",
        "  train_dataset = TensorDataset(X_train, y_train)\r\n",
        "  train_loader = DataLoader(train_dataset, batch_size=batch_size, num_workers=4)\r\n",
        "\r\n",
        "  test_dataset = TensorDataset(X_test, y_test)\r\n",
        "  test_loader = DataLoader(test_dataset, batch_size=batch_size, num_workers=4)\r\n",
        "\r\n",
        "  return X, train_loader, test_loader"
      ],
      "execution_count": null,
      "outputs": []
    },
    {
      "cell_type": "markdown",
      "metadata": {
        "id": "JXMrsErVjkBE"
      },
      "source": [
        "### Create Model"
      ]
    },
    {
      "cell_type": "code",
      "metadata": {
        "id": "7o-BdOd6jA0i"
      },
      "source": [
        "class MusicSynthesis(nn.Module):\r\n",
        "  \"\"\"LSTM base model\"\"\"\r\n",
        "  def __init__(self, num_embeddings, embedding_dim, hidden_size, num_layers, dropout, num_classes, input_size):\r\n",
        "    super(MusicSynthesis, self).__init__()\r\n",
        "    self.embedding = nn.Embedding(num_embeddings=num_embeddings, embedding_dim=embedding_dim)\r\n",
        "    self.lstm = nn.LSTM(input_size=embedding_dim, hidden_size=hidden_size, \r\n",
        "                        num_layers=num_layers, bidirectional=True, batch_first=True)\r\n",
        "    self.lstm2 = nn.LSTM(input_size=hidden_size*2, hidden_size=hidden_size,\r\n",
        "                        num_layers=num_layers, bidirectional=True, batch_first=True)\r\n",
        "    self.lstm3 = nn.LSTM(input_size=hidden_size*2, hidden_size=hidden_size,\r\n",
        "                        num_layers=num_layers, bidirectional=True, batch_first=True)\r\n",
        "    self.linear = nn.Linear(hidden_size*2, 64)\r\n",
        "    self.dropout = nn.Dropout()\r\n",
        "    self.linear2 = nn.Linear(64, num_classes)\r\n",
        "\r\n",
        "  def forward(self, x):\r\n",
        "    x = self.embedding(x)\r\n",
        "    h, (_, _) = self.lstm(x)\r\n",
        "    h, (_, _) = self.lstm2(h)\r\n",
        "    h, (_, _) = self.lstm3(h)\r\n",
        "    x = self.linear(h[:,-1,:])\r\n",
        "    x = self.dropout(x)\r\n",
        "    x = self.linear2(x)\r\n",
        "\r\n",
        "    return x"
      ],
      "execution_count": null,
      "outputs": []
    },
    {
      "cell_type": "markdown",
      "metadata": {
        "id": "z1Fs491tj_ng"
      },
      "source": [
        "### Training Function"
      ]
    },
    {
      "cell_type": "code",
      "metadata": {
        "id": "ZlljTtJbj-8z"
      },
      "source": [
        "def get_accuracy(outputs, labels):\r\n",
        "  \"\"\"\r\n",
        "  Get accuracy of each batch\r\n",
        "\r\n",
        "  Input:\r\n",
        "  outputs - Output tensor from the model\r\n",
        "  labels  - Tensor containing the true labels\r\n",
        "\r\n",
        "  Output:\r\n",
        "  Accuracy of the given batch\r\n",
        "  \"\"\"\r\n",
        "  outputs = torch.argmax(F.softmax(outputs, dim=1), dim=1)\r\n",
        "  outputs = outputs.detach().cpu()\r\n",
        "  labels = labels.detach().cpu()\r\n",
        "  correct = (outputs==labels).sum()\r\n",
        "  total = len(labels)\r\n",
        "\r\n",
        "  return correct/total"
      ],
      "execution_count": null,
      "outputs": []
    },
    {
      "cell_type": "code",
      "metadata": {
        "id": "aCrF5JXokFDo"
      },
      "source": [
        "def train_model(epochs, trainloader, testloader, model, optimizer, loss_function, vocab_size):\r\n",
        "  \"\"\"\r\n",
        "  Base function to train the model in one go, good for orthogonality.\r\n",
        "\r\n",
        "  Input:\r\n",
        "  epochs        - Number of training epochs.\r\n",
        "  dataloader    - DataLoader object.\r\n",
        "  model         - Model that needs to be trained.\r\n",
        "  optimizer     - Optimizer selected for the model.\r\n",
        "  loss_function - Loss function for backpropagation.\r\n",
        "  vocab_size    - Number of unique notes in our dataset.\r\n",
        "\r\n",
        "  Output:\r\n",
        "  losses   - List containing losses of each epoch\r\n",
        "  accuracy - List containing accuracies of each epoch\r\n",
        "  \"\"\"\r\n",
        "  training_losses = []\r\n",
        "  training_accuracy = []\r\n",
        "  test_losses = []\r\n",
        "  test_accuracy = []\r\n",
        "\r\n",
        "  for epoch in range(epochs):\r\n",
        "    tr_epoch_loss = []\r\n",
        "    tr_epoch_accuracy = []\r\n",
        "    te_epoch_loss = []\r\n",
        "    te_epoch_accuracy = []\r\n",
        "\r\n",
        "    for data in tqdm(trainloader):\r\n",
        "      inputs, labels = data\r\n",
        "      labels.squeeze_()\r\n",
        "      inputs = inputs.to(device)\r\n",
        "      labels = labels.to(device)\r\n",
        "      \r\n",
        "      model.train()\r\n",
        "      optimizer.zero_grad()\r\n",
        "      \r\n",
        "      outputs = model(inputs)\r\n",
        "      outputs = outputs\r\n",
        "      loss = loss_function(outputs, labels)\r\n",
        "\r\n",
        "      tr_epoch_accuracy.append(get_accuracy(outputs, labels))\r\n",
        "      tr_epoch_loss.append(loss.item())\r\n",
        "      loss.backward()\r\n",
        "      optimizer.step()\r\n",
        "          \r\n",
        "    curr_tr_acc = np.mean(tr_epoch_accuracy)\r\n",
        "    curr_tr_loss = np.mean(tr_epoch_loss)\r\n",
        "    training_accuracy.append(curr_tr_acc)\r\n",
        "    training_losses.append(curr_tr_loss)\r\n",
        "    \r\n",
        "  \r\n",
        "    with torch.no_grad():\r\n",
        "      for data in testloader:\r\n",
        "        inputs, labels = data\r\n",
        "        labels = labels.squeeze()\r\n",
        "        inputs = inputs.to(device)\r\n",
        "        labels = labels.to(device)\r\n",
        "\r\n",
        "        model.eval()\r\n",
        "\r\n",
        "        outputs = model(inputs)\r\n",
        "        loss = loss_function(outputs, labels)\r\n",
        "\r\n",
        "        te_epoch_accuracy.append(get_accuracy(outputs, labels))\r\n",
        "        te_epoch_loss.append(loss.item())\r\n",
        "    \r\n",
        "    curr_te_acc = np.mean(te_epoch_accuracy)\r\n",
        "    curr_te_loss = np.mean(te_epoch_loss)\r\n",
        "    test_accuracy.append(curr_te_acc)\r\n",
        "    test_losses.append(curr_te_loss)\r\n",
        "\r\n",
        "    print(f\"Epoch {epoch + 1:003}\")\r\n",
        "    print(f\"Training Loss = {curr_tr_loss:.3f} Training Accuracy = {curr_tr_acc*100:.3f}\")\r\n",
        "    print(f\"Validation Loss = {curr_te_loss:.3f} Validation Accuracy = {curr_te_acc*100:.3f}\")\r\n",
        "\r\n",
        "  print(\"Training Done\")\r\n",
        "\r\n",
        "  return training_losses, training_accuracy, test_losses, test_accuracy"
      ],
      "execution_count": null,
      "outputs": []
    },
    {
      "cell_type": "markdown",
      "metadata": {
        "id": "wZlxeGIYl17G"
      },
      "source": [
        "### Testing"
      ]
    },
    {
      "cell_type": "code",
      "metadata": {
        "colab": {
          "base_uri": "https://localhost:8080/",
          "height": 324
        },
        "id": "GsT66Sell1pA",
        "outputId": "020409bd-c7f4-495c-83f0-9bc4a23e9dff"
      },
      "source": [
        "notes_dataset = get_notes(\"dataset\")"
      ],
      "execution_count": null,
      "outputs": [
        {
          "output_type": "stream",
          "text": [
            "  0%|          | 0/292 [00:02<?, ?it/s]\n"
          ],
          "name": "stderr"
        },
        {
          "output_type": "error",
          "ename": "KeyboardInterrupt",
          "evalue": "ignored",
          "traceback": [
            "\u001b[0;31m---------------------------------------------------------------------------\u001b[0m",
            "\u001b[0;31mKeyboardInterrupt\u001b[0m                         Traceback (most recent call last)",
            "\u001b[0;32m<ipython-input-24-aee8f7b9cdf5>\u001b[0m in \u001b[0;36m<module>\u001b[0;34m()\u001b[0m\n\u001b[0;32m----> 1\u001b[0;31m \u001b[0mnotes_dataset\u001b[0m \u001b[0;34m=\u001b[0m \u001b[0mget_notes\u001b[0m\u001b[0;34m(\u001b[0m\u001b[0;34m\"dataset\"\u001b[0m\u001b[0;34m)\u001b[0m\u001b[0;34m\u001b[0m\u001b[0;34m\u001b[0m\u001b[0m\n\u001b[0m",
            "\u001b[0;32m<ipython-input-8-1595c6e52814>\u001b[0m in \u001b[0;36mget_notes\u001b[0;34m(root)\u001b[0m\n\u001b[1;32m     17\u001b[0m         \u001b[0mnotes\u001b[0m\u001b[0;34m.\u001b[0m\u001b[0mappend\u001b[0m\u001b[0;34m(\u001b[0m\u001b[0mcomponent\u001b[0m\u001b[0;34m.\u001b[0m\u001b[0mname\u001b[0m\u001b[0;34m)\u001b[0m\u001b[0;34m\u001b[0m\u001b[0;34m\u001b[0m\u001b[0m\n\u001b[1;32m     18\u001b[0m       \u001b[0;32melif\u001b[0m \u001b[0misinstance\u001b[0m\u001b[0;34m(\u001b[0m\u001b[0mcomponent\u001b[0m\u001b[0;34m,\u001b[0m \u001b[0mchord\u001b[0m\u001b[0;34m.\u001b[0m\u001b[0mChord\u001b[0m\u001b[0;34m)\u001b[0m\u001b[0;34m:\u001b[0m\u001b[0;34m\u001b[0m\u001b[0;34m\u001b[0m\u001b[0m\n\u001b[0;32m---> 19\u001b[0;31m         \u001b[0mnotes\u001b[0m\u001b[0;34m.\u001b[0m\u001b[0mappend\u001b[0m\u001b[0;34m(\u001b[0m\u001b[0;34m','\u001b[0m\u001b[0;34m.\u001b[0m\u001b[0mjoin\u001b[0m\u001b[0;34m(\u001b[0m\u001b[0mstr\u001b[0m\u001b[0;34m(\u001b[0m\u001b[0mn\u001b[0m\u001b[0;34m)\u001b[0m \u001b[0;32mfor\u001b[0m \u001b[0mn\u001b[0m \u001b[0;32min\u001b[0m \u001b[0mcomponent\u001b[0m\u001b[0;34m.\u001b[0m\u001b[0mnormalOrder\u001b[0m\u001b[0;34m)\u001b[0m\u001b[0;34m)\u001b[0m\u001b[0;34m\u001b[0m\u001b[0;34m\u001b[0m\u001b[0m\n\u001b[0m\u001b[1;32m     20\u001b[0m \u001b[0;34m\u001b[0m\u001b[0m\n\u001b[1;32m     21\u001b[0m   \u001b[0;32mreturn\u001b[0m \u001b[0mnotes\u001b[0m\u001b[0;34m\u001b[0m\u001b[0;34m\u001b[0m\u001b[0m\n",
            "\u001b[0;32m/usr/local/lib/python3.6/dist-packages/music21/chord/__init__.py\u001b[0m in \u001b[0;36mnormalOrder\u001b[0;34m(self)\u001b[0m\n\u001b[1;32m   4148\u001b[0m         \u001b[0;34m[\u001b[0m\u001b[0;36m1\u001b[0m\u001b[0;34m,\u001b[0m \u001b[0;36m5\u001b[0m\u001b[0;34m,\u001b[0m \u001b[0;36m9\u001b[0m\u001b[0;34m]\u001b[0m\u001b[0;34m\u001b[0m\u001b[0;34m\u001b[0m\u001b[0m\n\u001b[1;32m   4149\u001b[0m         '''\n\u001b[0;32m-> 4150\u001b[0;31m         \u001b[0mcta\u001b[0m \u001b[0;34m=\u001b[0m \u001b[0mself\u001b[0m\u001b[0;34m.\u001b[0m\u001b[0mchordTablesAddress\u001b[0m\u001b[0;34m\u001b[0m\u001b[0;34m\u001b[0m\u001b[0m\n\u001b[0m\u001b[1;32m   4151\u001b[0m         \u001b[0mtransposedNormalForm\u001b[0m \u001b[0;34m=\u001b[0m \u001b[0mchordTables\u001b[0m\u001b[0;34m.\u001b[0m\u001b[0maddressToTransposedNormalForm\u001b[0m\u001b[0;34m(\u001b[0m\u001b[0mcta\u001b[0m\u001b[0;34m)\u001b[0m\u001b[0;34m\u001b[0m\u001b[0;34m\u001b[0m\u001b[0m\n\u001b[1;32m   4152\u001b[0m         \u001b[0morderedPCs\u001b[0m \u001b[0;34m=\u001b[0m \u001b[0mself\u001b[0m\u001b[0;34m.\u001b[0m\u001b[0morderedPitchClasses\u001b[0m\u001b[0;34m\u001b[0m\u001b[0;34m\u001b[0m\u001b[0m\n",
            "\u001b[0;32m/usr/local/lib/python3.6/dist-packages/music21/chord/__init__.py\u001b[0m in \u001b[0;36mchordTablesAddress\u001b[0;34m(self)\u001b[0m\n\u001b[1;32m   3756\u001b[0m         '''\n\u001b[1;32m   3757\u001b[0m         \u001b[0;32mif\u001b[0m \u001b[0mself\u001b[0m\u001b[0;34m.\u001b[0m\u001b[0m_chordTablesAddressNeedsUpdating\u001b[0m\u001b[0;34m:\u001b[0m\u001b[0;34m\u001b[0m\u001b[0;34m\u001b[0m\u001b[0m\n\u001b[0;32m-> 3758\u001b[0;31m             \u001b[0mself\u001b[0m\u001b[0;34m.\u001b[0m\u001b[0m_chordTablesAddress\u001b[0m \u001b[0;34m=\u001b[0m \u001b[0mchordTables\u001b[0m\u001b[0;34m.\u001b[0m\u001b[0mseekChordTablesAddress\u001b[0m\u001b[0;34m(\u001b[0m\u001b[0mself\u001b[0m\u001b[0;34m)\u001b[0m\u001b[0;34m\u001b[0m\u001b[0;34m\u001b[0m\u001b[0m\n\u001b[0m\u001b[1;32m   3759\u001b[0m         \u001b[0mself\u001b[0m\u001b[0;34m.\u001b[0m\u001b[0m_chordTablesAddressNeedsUpdating\u001b[0m \u001b[0;34m=\u001b[0m \u001b[0;32mFalse\u001b[0m\u001b[0;34m\u001b[0m\u001b[0;34m\u001b[0m\u001b[0m\n\u001b[1;32m   3760\u001b[0m         \u001b[0;32mreturn\u001b[0m \u001b[0mself\u001b[0m\u001b[0;34m.\u001b[0m\u001b[0m_chordTablesAddress\u001b[0m\u001b[0;34m\u001b[0m\u001b[0;34m\u001b[0m\u001b[0m\n",
            "\u001b[0;32m/usr/local/lib/python3.6/dist-packages/music21/chord/tables.py\u001b[0m in \u001b[0;36mseekChordTablesAddress\u001b[0;34m(c)\u001b[0m\n\u001b[1;32m   2807\u001b[0m         \u001b[0;32mfor\u001b[0m \u001b[0mChord\u001b[0m \u001b[0;32mwith\u001b[0m \u001b[0;36m0\u001b[0m \u001b[0mpitches\u001b[0m\u001b[0;34m\u001b[0m\u001b[0;34m\u001b[0m\u001b[0m\n\u001b[1;32m   2808\u001b[0m     '''\n\u001b[0;32m-> 2809\u001b[0;31m     \u001b[0mpcSet\u001b[0m \u001b[0;34m=\u001b[0m \u001b[0mc\u001b[0m\u001b[0;34m.\u001b[0m\u001b[0morderedPitchClasses\u001b[0m\u001b[0;34m\u001b[0m\u001b[0;34m\u001b[0m\u001b[0m\n\u001b[0m\u001b[1;32m   2810\u001b[0m     \u001b[0;32mif\u001b[0m \u001b[0;32mnot\u001b[0m \u001b[0mpcSet\u001b[0m\u001b[0;34m:\u001b[0m\u001b[0;34m\u001b[0m\u001b[0;34m\u001b[0m\u001b[0m\n\u001b[1;32m   2811\u001b[0m         raise ChordTablesException(\n",
            "\u001b[0;32m/usr/local/lib/python3.6/dist-packages/music21/chord/__init__.py\u001b[0m in \u001b[0;36morderedPitchClasses\u001b[0;34m(self)\u001b[0m\n\u001b[1;32m   4186\u001b[0m         \u001b[0mpcGroup\u001b[0m \u001b[0;34m=\u001b[0m \u001b[0;34m[\u001b[0m\u001b[0;34m]\u001b[0m\u001b[0;34m\u001b[0m\u001b[0;34m\u001b[0m\u001b[0m\n\u001b[1;32m   4187\u001b[0m         \u001b[0;32mfor\u001b[0m \u001b[0mp\u001b[0m \u001b[0;32min\u001b[0m \u001b[0mself\u001b[0m\u001b[0;34m.\u001b[0m\u001b[0mpitches\u001b[0m\u001b[0;34m:\u001b[0m\u001b[0;34m\u001b[0m\u001b[0;34m\u001b[0m\u001b[0m\n\u001b[0;32m-> 4188\u001b[0;31m             \u001b[0;32mif\u001b[0m \u001b[0mp\u001b[0m\u001b[0;34m.\u001b[0m\u001b[0mpitchClass\u001b[0m \u001b[0;32min\u001b[0m \u001b[0mpcGroup\u001b[0m\u001b[0;34m:\u001b[0m\u001b[0;34m\u001b[0m\u001b[0;34m\u001b[0m\u001b[0m\n\u001b[0m\u001b[1;32m   4189\u001b[0m                 \u001b[0;32mcontinue\u001b[0m\u001b[0;34m\u001b[0m\u001b[0;34m\u001b[0m\u001b[0m\n\u001b[1;32m   4190\u001b[0m             \u001b[0mpcGroup\u001b[0m\u001b[0;34m.\u001b[0m\u001b[0mappend\u001b[0m\u001b[0;34m(\u001b[0m\u001b[0mp\u001b[0m\u001b[0;34m.\u001b[0m\u001b[0mpitchClass\u001b[0m\u001b[0;34m)\u001b[0m\u001b[0;34m\u001b[0m\u001b[0;34m\u001b[0m\u001b[0m\n",
            "\u001b[0;32m/usr/local/lib/python3.6/dist-packages/music21/pitch.py\u001b[0m in \u001b[0;36m_getPitchClass\u001b[0;34m(self)\u001b[0m\n\u001b[1;32m   2731\u001b[0m \u001b[0;34m\u001b[0m\u001b[0m\n\u001b[1;32m   2732\u001b[0m     \u001b[0;32mdef\u001b[0m \u001b[0m_getPitchClass\u001b[0m\u001b[0;34m(\u001b[0m\u001b[0mself\u001b[0m\u001b[0;34m)\u001b[0m\u001b[0;34m:\u001b[0m\u001b[0;34m\u001b[0m\u001b[0;34m\u001b[0m\u001b[0m\n\u001b[0;32m-> 2733\u001b[0;31m         \u001b[0mpc\u001b[0m \u001b[0;34m=\u001b[0m \u001b[0mround\u001b[0m\u001b[0;34m(\u001b[0m\u001b[0mself\u001b[0m\u001b[0;34m.\u001b[0m\u001b[0mps\u001b[0m\u001b[0;34m)\u001b[0m \u001b[0;34m%\u001b[0m \u001b[0;36m12\u001b[0m\u001b[0;34m\u001b[0m\u001b[0;34m\u001b[0m\u001b[0m\n\u001b[0m\u001b[1;32m   2734\u001b[0m         \u001b[0;32mif\u001b[0m \u001b[0mpc\u001b[0m \u001b[0;34m==\u001b[0m \u001b[0;36m12\u001b[0m\u001b[0;34m:\u001b[0m\u001b[0;34m\u001b[0m\u001b[0;34m\u001b[0m\u001b[0m\n\u001b[1;32m   2735\u001b[0m             \u001b[0mpc\u001b[0m \u001b[0;34m=\u001b[0m \u001b[0;36m0\u001b[0m\u001b[0;34m\u001b[0m\u001b[0;34m\u001b[0m\u001b[0m\n",
            "\u001b[0;32m/usr/local/lib/python3.6/dist-packages/music21/pitch.py\u001b[0m in \u001b[0;36m_getPs\u001b[0;34m(self)\u001b[0m\n\u001b[1;32m   2238\u001b[0m         '''\n\u001b[1;32m   2239\u001b[0m         \u001b[0mstep\u001b[0m \u001b[0;34m=\u001b[0m \u001b[0mself\u001b[0m\u001b[0;34m.\u001b[0m\u001b[0m_step\u001b[0m\u001b[0;34m.\u001b[0m\u001b[0mupper\u001b[0m\u001b[0;34m(\u001b[0m\u001b[0;34m)\u001b[0m\u001b[0;34m\u001b[0m\u001b[0;34m\u001b[0m\u001b[0m\n\u001b[0;32m-> 2240\u001b[0;31m         \u001b[0mps\u001b[0m \u001b[0;34m=\u001b[0m \u001b[0mfloat\u001b[0m\u001b[0;34m(\u001b[0m\u001b[0;34m(\u001b[0m\u001b[0;34m(\u001b[0m\u001b[0mself\u001b[0m\u001b[0;34m.\u001b[0m\u001b[0mimplicitOctave\u001b[0m \u001b[0;34m+\u001b[0m \u001b[0;36m1\u001b[0m\u001b[0;34m)\u001b[0m \u001b[0;34m*\u001b[0m \u001b[0;36m12\u001b[0m\u001b[0;34m)\u001b[0m \u001b[0;34m+\u001b[0m \u001b[0mSTEPREF\u001b[0m\u001b[0;34m[\u001b[0m\u001b[0mstep\u001b[0m\u001b[0;34m]\u001b[0m\u001b[0;34m)\u001b[0m\u001b[0;34m\u001b[0m\u001b[0;34m\u001b[0m\u001b[0m\n\u001b[0m\u001b[1;32m   2241\u001b[0m         \u001b[0;32mif\u001b[0m \u001b[0mself\u001b[0m\u001b[0;34m.\u001b[0m\u001b[0maccidental\u001b[0m \u001b[0;32mis\u001b[0m \u001b[0;32mnot\u001b[0m \u001b[0;32mNone\u001b[0m\u001b[0;34m:\u001b[0m\u001b[0;34m\u001b[0m\u001b[0;34m\u001b[0m\u001b[0m\n\u001b[1;32m   2242\u001b[0m             \u001b[0mps\u001b[0m \u001b[0;34m=\u001b[0m \u001b[0mps\u001b[0m \u001b[0;34m+\u001b[0m \u001b[0mself\u001b[0m\u001b[0;34m.\u001b[0m\u001b[0maccidental\u001b[0m\u001b[0;34m.\u001b[0m\u001b[0malter\u001b[0m\u001b[0;34m\u001b[0m\u001b[0;34m\u001b[0m\u001b[0m\n",
            "\u001b[0;32m/usr/local/lib/python3.6/dist-packages/music21/pitch.py\u001b[0m in \u001b[0;36m_getImplicitOctave\u001b[0;34m(self)\u001b[0m\n\u001b[1;32m   2906\u001b[0m             \u001b[0;32mreturn\u001b[0m \u001b[0mself\u001b[0m\u001b[0;34m.\u001b[0m\u001b[0mdefaultOctave\u001b[0m\u001b[0;34m\u001b[0m\u001b[0;34m\u001b[0m\u001b[0m\n\u001b[1;32m   2907\u001b[0m         \u001b[0;32melse\u001b[0m\u001b[0;34m:\u001b[0m\u001b[0;34m\u001b[0m\u001b[0;34m\u001b[0m\u001b[0m\n\u001b[0;32m-> 2908\u001b[0;31m             \u001b[0;32mreturn\u001b[0m \u001b[0mself\u001b[0m\u001b[0;34m.\u001b[0m\u001b[0moctave\u001b[0m\u001b[0;34m\u001b[0m\u001b[0;34m\u001b[0m\u001b[0m\n\u001b[0m\u001b[1;32m   2909\u001b[0m \u001b[0;34m\u001b[0m\u001b[0m\n\u001b[1;32m   2910\u001b[0m     implicitOctave = property(_getImplicitOctave, doc='''\n",
            "\u001b[0;32m/usr/local/lib/python3.6/dist-packages/music21/pitch.py\u001b[0m in \u001b[0;36m_getOctave\u001b[0;34m(self)\u001b[0m\n\u001b[1;32m   2865\u001b[0m         ''')\n\u001b[1;32m   2866\u001b[0m \u001b[0;34m\u001b[0m\u001b[0m\n\u001b[0;32m-> 2867\u001b[0;31m     \u001b[0;32mdef\u001b[0m \u001b[0m_getOctave\u001b[0m\u001b[0;34m(\u001b[0m\u001b[0mself\u001b[0m\u001b[0;34m)\u001b[0m\u001b[0;34m:\u001b[0m\u001b[0;34m\u001b[0m\u001b[0;34m\u001b[0m\u001b[0m\n\u001b[0m\u001b[1;32m   2868\u001b[0m         '''\n\u001b[1;32m   2869\u001b[0m         \u001b[0mThis\u001b[0m \u001b[0;32mis\u001b[0m \u001b[0m_octave\u001b[0m\u001b[0;34m,\u001b[0m \u001b[0;32mnot\u001b[0m \u001b[0mimplicitOctave\u001b[0m\u001b[0;34m\u001b[0m\u001b[0;34m\u001b[0m\u001b[0m\n",
            "\u001b[0;31mKeyboardInterrupt\u001b[0m: "
          ]
        }
      ]
    },
    {
      "cell_type": "code",
      "metadata": {
        "id": "aeF8S8lL_Zxo"
      },
      "source": [
        "# save to file\r\n",
        "with open(\"notes_dataset.txt\", \"wb\") as file_:\r\n",
        "  pickle.dump(notes_dataset, file_)"
      ],
      "execution_count": null,
      "outputs": []
    },
    {
      "cell_type": "code",
      "metadata": {
        "id": "Obn3ians_n88"
      },
      "source": [
        "# open from an existing file\r\n",
        "with open(\"notes_dataset.txt\", \"rb\") as file_:\r\n",
        "  notes_dataset = pickle.load(file_)"
      ],
      "execution_count": null,
      "outputs": []
    },
    {
      "cell_type": "code",
      "metadata": {
        "id": "meWVaOGrl90o"
      },
      "source": [
        "vocab, note_to_int, int_to_note = get_info(notes_dataset)"
      ],
      "execution_count": null,
      "outputs": []
    },
    {
      "cell_type": "code",
      "metadata": {
        "id": "oKWeYywamHYJ"
      },
      "source": [
        "SEQ_LEN = 100\r\n",
        "VOCAB_LEN = len(vocab)\r\n",
        "\r\n",
        "X, trainloader, testloader = get_dataloader(notes_dataset, note_to_int, SEQ_LEN, VOCAB_LEN)"
      ],
      "execution_count": null,
      "outputs": []
    },
    {
      "cell_type": "code",
      "metadata": {
        "id": "yatJxSDLmZxm"
      },
      "source": [
        "model = MusicSynthesis(VOCAB_LEN, 50, hidden_size=256, num_layers=1, \r\n",
        "                       dropout=0.3, num_classes=VOCAB_LEN, input_size=1)"
      ],
      "execution_count": null,
      "outputs": []
    },
    {
      "cell_type": "code",
      "metadata": {
        "colab": {
          "base_uri": "https://localhost:8080/"
        },
        "id": "tlc5R6Qmq0O-",
        "outputId": "d2ccd8ef-df6a-4d38-b745-00b451989db1"
      },
      "source": [
        "model.to(device)"
      ],
      "execution_count": null,
      "outputs": [
        {
          "output_type": "execute_result",
          "data": {
            "text/plain": [
              "MusicSynthesis(\n",
              "  (embedding): Embedding(409, 50)\n",
              "  (lstm): LSTM(50, 256, batch_first=True, bidirectional=True)\n",
              "  (lstm2): LSTM(512, 256, batch_first=True, bidirectional=True)\n",
              "  (lstm3): LSTM(512, 256, batch_first=True, bidirectional=True)\n",
              "  (linear): Linear(in_features=512, out_features=64, bias=True)\n",
              "  (dropout): Dropout(p=0.5, inplace=False)\n",
              "  (linear2): Linear(in_features=64, out_features=409, bias=True)\n",
              ")"
            ]
          },
          "metadata": {
            "tags": []
          },
          "execution_count": 16
        }
      ]
    },
    {
      "cell_type": "code",
      "metadata": {
        "colab": {
          "base_uri": "https://localhost:8080/"
        },
        "id": "HDnTOFIZ5r4P",
        "outputId": "1f51fa56-dfcf-4d55-b0ea-5b775fe19434"
      },
      "source": [
        "model.load_state_dict(torch.load(\"biLSTM-model-with-embeddings-256h-1l.pth\"))"
      ],
      "execution_count": null,
      "outputs": [
        {
          "output_type": "execute_result",
          "data": {
            "text/plain": [
              "<All keys matched successfully>"
            ]
          },
          "metadata": {
            "tags": []
          },
          "execution_count": 20
        }
      ]
    },
    {
      "cell_type": "code",
      "metadata": {
        "id": "2RFmTG_tmzCw"
      },
      "source": [
        "criterion = nn.CrossEntropyLoss()\r\n",
        "optimizer = optim.Adam(model.parameters())"
      ],
      "execution_count": null,
      "outputs": []
    },
    {
      "cell_type": "code",
      "metadata": {
        "colab": {
          "base_uri": "https://localhost:8080/",
          "height": 949,
          "referenced_widgets": [
            "1cfc9fe92e3f48109434e33e2ddb1da0",
            "2d4c75a20b92478b9c2900e5a9b6303e",
            "cd7540e1bff746679cfae9443e091d15",
            "bce339b695af4ebbbe693e481bfbfc9c",
            "a81a625f033f47b28c097ce153f835df",
            "f45345deb6b148c4b691ebe7a0626cc1",
            "645f4822a7094739abb332451e0b661d",
            "a9efd5cf1fdd42398dc4209cd69d50ab",
            "908c6b7c863945df95ec39e624d629f7",
            "f0fd6736ec364a29a38bd4474962fe62",
            "9d421344cc784fd9b084cd97a6ddba17",
            "f7e7bc78144f4341b97fcca2ae1e2afe",
            "7a3bae0792a24e70bfc834ebb35c6da9",
            "e13f630c9cf74549b2f145a5202971a7",
            "307c659820e14872b678f6a9f0c704d0",
            "87d47826a29a48c99a6ea72fc5674c89",
            "a03833fb05724ed5a526e375a5d1c1a5",
            "67dbc86e98db4cd5bcc9c19897311a64",
            "4536e3c25e26434ba61ed285a3904664",
            "5243612b89634039815cee3d6f845333",
            "77409151a6e0413db252c7fa7b8179d9",
            "497a0847ae704f88b5eec54de36e15e4",
            "02ba737e92f94e18927501eb2bd7eb30",
            "1bda5d4800f04acab7de32e70354c23d",
            "84e89e20d4384b1c8f19ca0e5ab282cb",
            "66e6bcb94f3640c1ac23329558644200",
            "945d88656d344654bdf6e711eefe14f1",
            "36f43c0e257b4cb79fb8950e8254a2a8",
            "523374470f54475786f025936900cfd5",
            "58e69374455342ba96194eaaaffd7d4a",
            "e4290cc39f4c4f6c933113fd1dc78e03",
            "b0048feabc024e24b71ac8a568740a03",
            "174a4abf767840a5bc9aab4811e7d070",
            "464850022a0045e6b2aa04534ecd8bca",
            "6c667bff43594bcfb17b83c3f2188d9f",
            "c7e1b75b492b48599383c1a2014435d5",
            "e8d76fea7a8847dbab6f5299ed23b814",
            "abce09686a3b444db25250010cfe44f2",
            "39f9cf1e326a442fa7d29014b7f680c3",
            "7fd1e25b8b344d01a9a07432f302a49f",
            "2c35e437257a4e448023ac3f60914bee",
            "407085fd20224951b44bb03026462876",
            "522d4c20789248f69029ac2d5d9edc4a",
            "bf865c3886aa43e987edf27fb38ef92d",
            "8b7c1fcd4cc6452f8aec9204539dfdf2",
            "49ba5e36eae4447e88279706e30fff37",
            "5d5147f0906b4eeeaaa116fb4e341740",
            "5cafede43e9b44d0a52b6b5d569e3b1a",
            "172681bd01e24ad9b1b5a853d53c9c3e",
            "5dcb786e76f841469c5b3b9d37ae745c",
            "f3936fc34ada4ff8a21bf1d67734e7ad",
            "783cf193cdc541adb26d6898e70d51a6",
            "98636544256f4d1db40a17c6e139c0bb",
            "4b8fbedb196943d8a11751b4b33a29df",
            "7e0b0612502b4c91bf3016859c4ce8b7",
            "be52ed4ff85a44068176b4d7714eda92",
            "cd313ea100c54a3790d1f9e10bce045a",
            "51c7decacd9d451ba8e99ea115b76f73",
            "c38559eb0a534a509ccaa6e3ba071dd1",
            "4fb19e88de4d4a6da862e32cbba9c965",
            "6356c51bfb51440fb102264ef5cfd294",
            "460fa6b62c7040c08e3b7e2b78afedd1",
            "fcb9045ced6c47b3855f9d24e61a7edf",
            "23fcbfb5429749669db2c3392417ecb4",
            "602a8ad7d6494ec1860e772a6fe56c57",
            "31adce0c779048b399b9060d37091f9d",
            "a9244096adfd43fea8adbc170bb2fbc8",
            "5c3219cd34444102a80b3af985e18c51",
            "909602eac7534b12918173381c400e1a",
            "8502ba56eb78453a8a0c69b97448f4bb",
            "86c64a9e37ef44dc8b407f176bfc6d99",
            "feb5d3e753be4b54aa21255a701c6abb",
            "795c4e588e774a6187d0f29df00c07c5",
            "548725166c3a4e348cf20f403b77eb07",
            "559c1f86ede24f339a0db634d7949f48",
            "622693ed03a64c08a9b8164fdee2481f",
            "5ec384fc776c4ec990287e1d32a6f41d",
            "76bdb9a12f4546feab4f055006626d48",
            "e02aec39ed8046f897f65b6baf10da12",
            "f9d7142c12d0450aac85abcdd90f6f3e"
          ]
        },
        "id": "rCxh90-DnX-J",
        "outputId": "01737984-623d-4e49-e42c-b9287552364d"
      },
      "source": [
        "EPOCHS = 10\r\n",
        "\r\n",
        "loss, accuracy = train_model(epochs=EPOCHS, trainloader=trainloader, testloader=testloader, model=model, \r\n",
        "                    optimizer=optimizer, loss_function=criterion, vocab_size=VOCAB_LEN)"
      ],
      "execution_count": null,
      "outputs": [
        {
          "output_type": "display_data",
          "data": {
            "application/vnd.jupyter.widget-view+json": {
              "model_id": "1cfc9fe92e3f48109434e33e2ddb1da0",
              "version_major": 2,
              "version_minor": 0
            },
            "text/plain": [
              "HBox(children=(FloatProgress(value=0.0, max=6857.0), HTML(value='')))"
            ]
          },
          "metadata": {
            "tags": []
          }
        },
        {
          "output_type": "stream",
          "text": [
            "\n",
            "Epoch 001\n",
            "Training Loss = 1.247 Training Accuracy = 67.979\n",
            "Validation Loss = 1.164 Validation Accuracy = 68.852\n"
          ],
          "name": "stdout"
        },
        {
          "output_type": "display_data",
          "data": {
            "application/vnd.jupyter.widget-view+json": {
              "model_id": "908c6b7c863945df95ec39e624d629f7",
              "version_major": 2,
              "version_minor": 0
            },
            "text/plain": [
              "HBox(children=(FloatProgress(value=0.0, max=6857.0), HTML(value='')))"
            ]
          },
          "metadata": {
            "tags": []
          }
        },
        {
          "output_type": "stream",
          "text": [
            "\n",
            "Epoch 002\n",
            "Training Loss = 1.169 Training Accuracy = 69.124\n",
            "Validation Loss = 1.237 Validation Accuracy = 67.161\n"
          ],
          "name": "stdout"
        },
        {
          "output_type": "display_data",
          "data": {
            "application/vnd.jupyter.widget-view+json": {
              "model_id": "a03833fb05724ed5a526e375a5d1c1a5",
              "version_major": 2,
              "version_minor": 0
            },
            "text/plain": [
              "HBox(children=(FloatProgress(value=0.0, max=6857.0), HTML(value='')))"
            ]
          },
          "metadata": {
            "tags": []
          }
        },
        {
          "output_type": "stream",
          "text": [
            "\n",
            "Epoch 003\n",
            "Training Loss = 1.116 Training Accuracy = 70.217\n",
            "Validation Loss = 1.305 Validation Accuracy = 66.001\n"
          ],
          "name": "stdout"
        },
        {
          "output_type": "display_data",
          "data": {
            "application/vnd.jupyter.widget-view+json": {
              "model_id": "84e89e20d4384b1c8f19ca0e5ab282cb",
              "version_major": 2,
              "version_minor": 0
            },
            "text/plain": [
              "HBox(children=(FloatProgress(value=0.0, max=6857.0), HTML(value='')))"
            ]
          },
          "metadata": {
            "tags": []
          }
        },
        {
          "output_type": "stream",
          "text": [
            "\n",
            "Epoch 004\n",
            "Training Loss = 1.077 Training Accuracy = 71.034\n",
            "Validation Loss = 1.365 Validation Accuracy = 65.001\n"
          ],
          "name": "stdout"
        },
        {
          "output_type": "display_data",
          "data": {
            "application/vnd.jupyter.widget-view+json": {
              "model_id": "174a4abf767840a5bc9aab4811e7d070",
              "version_major": 2,
              "version_minor": 0
            },
            "text/plain": [
              "HBox(children=(FloatProgress(value=0.0, max=6857.0), HTML(value='')))"
            ]
          },
          "metadata": {
            "tags": []
          }
        },
        {
          "output_type": "stream",
          "text": [
            "\n",
            "Epoch 005\n",
            "Training Loss = 1.050 Training Accuracy = 71.581\n",
            "Validation Loss = 1.412 Validation Accuracy = 64.502\n"
          ],
          "name": "stdout"
        },
        {
          "output_type": "display_data",
          "data": {
            "application/vnd.jupyter.widget-view+json": {
              "model_id": "2c35e437257a4e448023ac3f60914bee",
              "version_major": 2,
              "version_minor": 0
            },
            "text/plain": [
              "HBox(children=(FloatProgress(value=0.0, max=6857.0), HTML(value='')))"
            ]
          },
          "metadata": {
            "tags": []
          }
        },
        {
          "output_type": "stream",
          "text": [
            "\n",
            "Epoch 006\n",
            "Training Loss = 1.018 Training Accuracy = 72.325\n",
            "Validation Loss = 1.469 Validation Accuracy = 63.772\n"
          ],
          "name": "stdout"
        },
        {
          "output_type": "display_data",
          "data": {
            "application/vnd.jupyter.widget-view+json": {
              "model_id": "172681bd01e24ad9b1b5a853d53c9c3e",
              "version_major": 2,
              "version_minor": 0
            },
            "text/plain": [
              "HBox(children=(FloatProgress(value=0.0, max=6857.0), HTML(value='')))"
            ]
          },
          "metadata": {
            "tags": []
          }
        },
        {
          "output_type": "stream",
          "text": [
            "\n",
            "Epoch 007\n",
            "Training Loss = 1.004 Training Accuracy = 72.687\n",
            "Validation Loss = 1.498 Validation Accuracy = 63.505\n"
          ],
          "name": "stdout"
        },
        {
          "output_type": "display_data",
          "data": {
            "application/vnd.jupyter.widget-view+json": {
              "model_id": "cd313ea100c54a3790d1f9e10bce045a",
              "version_minor": 0,
              "version_major": 2
            },
            "text/plain": [
              "HBox(children=(FloatProgress(value=0.0, max=6857.0), HTML(value='')))"
            ]
          },
          "metadata": {
            "tags": []
          }
        },
        {
          "output_type": "stream",
          "text": [
            "\n",
            "Epoch 008\n",
            "Training Loss = 0.977 Training Accuracy = 73.323\n",
            "Validation Loss = 1.529 Validation Accuracy = 63.457\n"
          ],
          "name": "stdout"
        },
        {
          "output_type": "display_data",
          "data": {
            "application/vnd.jupyter.widget-view+json": {
              "model_id": "602a8ad7d6494ec1860e772a6fe56c57",
              "version_minor": 0,
              "version_major": 2
            },
            "text/plain": [
              "HBox(children=(FloatProgress(value=0.0, max=6857.0), HTML(value='')))"
            ]
          },
          "metadata": {
            "tags": []
          }
        },
        {
          "output_type": "stream",
          "text": [
            "\n",
            "Epoch 009\n",
            "Training Loss = 0.956 Training Accuracy = 73.803\n",
            "Validation Loss = 1.572 Validation Accuracy = 62.877\n"
          ],
          "name": "stdout"
        },
        {
          "output_type": "display_data",
          "data": {
            "application/vnd.jupyter.widget-view+json": {
              "model_id": "795c4e588e774a6187d0f29df00c07c5",
              "version_minor": 0,
              "version_major": 2
            },
            "text/plain": [
              "HBox(children=(FloatProgress(value=0.0, max=6857.0), HTML(value='')))"
            ]
          },
          "metadata": {
            "tags": []
          }
        }
      ]
    },
    {
      "cell_type": "code",
      "metadata": {
        "id": "7QbIdyHG9Yys"
      },
      "source": [
        "MODEL_PATH = \"./biLSTM-model-with-embeddings-256h-1l.pth\"\r\n",
        "\r\n",
        "torch.save(model.state_dict(), MODEL_PATH)"
      ],
      "execution_count": null,
      "outputs": []
    },
    {
      "cell_type": "code",
      "metadata": {
        "colab": {
          "base_uri": "https://localhost:8080/"
        },
        "id": "QGASWUkoCaGZ",
        "outputId": "2c090d8f-6d76-4df7-dd94-5ea305830f8c"
      },
      "source": [
        "fig, (ax1, ax2, ax3, ax4) = plt.subplots(2, 2)\r\n",
        "ax1.plot(loss)\r\n",
        "ax2.plot(accuracy)\r\n",
        "ax1.set_xlabel(\"Loss\")\r\n",
        "ax2.set_xlabel(\"Accuracy\")\r\n",
        "plt.show()"
      ],
      "execution_count": null,
      "outputs": [
        {
          "output_type": "error",
          "ename": "ValueError",
          "evalue": "ignored",
          "traceback": [
            "\u001b[0;31m---------------------------------------------------------------------------\u001b[0m",
            "\u001b[0;31mValueError\u001b[0m                                Traceback (most recent call last)",
            "\u001b[0;32m<ipython-input-17-ab6a47e854c7>\u001b[0m in \u001b[0;36m<module>\u001b[0;34m()\u001b[0m\n\u001b[0;32m----> 1\u001b[0;31m \u001b[0mfig\u001b[0m\u001b[0;34m,\u001b[0m \u001b[0;34m(\u001b[0m\u001b[0max1\u001b[0m\u001b[0;34m,\u001b[0m \u001b[0max2\u001b[0m\u001b[0;34m,\u001b[0m \u001b[0max3\u001b[0m\u001b[0;34m,\u001b[0m \u001b[0max4\u001b[0m\u001b[0;34m)\u001b[0m \u001b[0;34m=\u001b[0m \u001b[0mplt\u001b[0m\u001b[0;34m.\u001b[0m\u001b[0msubplots\u001b[0m\u001b[0;34m(\u001b[0m\u001b[0;36m2\u001b[0m\u001b[0;34m,\u001b[0m \u001b[0;36m2\u001b[0m\u001b[0;34m)\u001b[0m\u001b[0;34m\u001b[0m\u001b[0;34m\u001b[0m\u001b[0m\n\u001b[0m\u001b[1;32m      2\u001b[0m \u001b[0max1\u001b[0m\u001b[0;34m.\u001b[0m\u001b[0mplot\u001b[0m\u001b[0;34m(\u001b[0m\u001b[0mloss\u001b[0m\u001b[0;34m)\u001b[0m\u001b[0;34m\u001b[0m\u001b[0;34m\u001b[0m\u001b[0m\n\u001b[1;32m      3\u001b[0m \u001b[0max2\u001b[0m\u001b[0;34m.\u001b[0m\u001b[0mplot\u001b[0m\u001b[0;34m(\u001b[0m\u001b[0maccuracy\u001b[0m\u001b[0;34m)\u001b[0m\u001b[0;34m\u001b[0m\u001b[0;34m\u001b[0m\u001b[0m\n\u001b[1;32m      4\u001b[0m \u001b[0max1\u001b[0m\u001b[0;34m.\u001b[0m\u001b[0mset_xlabel\u001b[0m\u001b[0;34m(\u001b[0m\u001b[0;34m\"Loss\"\u001b[0m\u001b[0;34m)\u001b[0m\u001b[0;34m\u001b[0m\u001b[0;34m\u001b[0m\u001b[0m\n\u001b[1;32m      5\u001b[0m \u001b[0max2\u001b[0m\u001b[0;34m.\u001b[0m\u001b[0mset_xlabel\u001b[0m\u001b[0;34m(\u001b[0m\u001b[0;34m\"Accuracy\"\u001b[0m\u001b[0;34m)\u001b[0m\u001b[0;34m\u001b[0m\u001b[0;34m\u001b[0m\u001b[0m\n",
            "\u001b[0;31mValueError\u001b[0m: not enough values to unpack (expected 4, got 2)"
          ]
        },
        {
          "output_type": "display_data",
          "data": {
            "image/png": "[encoded data removed]",
            "text/plain": [
              "<Figure size 432x288 with 4 Axes>"
            ]
          },
          "metadata": {
            "tags": [],
            "image/png": {
              "width": 386,
              "height": 252
            },
            "needs_background": "light"
          }
        }
      ]
    },
    {
      "cell_type": "code",
      "metadata": {
        "id": "-1MxSKeSziau"
      },
      "source": [
        "X = torch.tensor(X)"
      ],
      "execution_count": null,
      "outputs": []
    },
    {
      "cell_type": "markdown",
      "metadata": {
        "id": "g6wKsVJCCVyC"
      },
      "source": [
        "### Sampling"
      ]
    },
    {
      "cell_type": "code",
      "metadata": {
        "id": "OI4HW_DfCVT1"
      },
      "source": [
        "def sample(model, file_name, vocab_len, base_offset, sample_len):\r\n",
        "  \"\"\"\r\n",
        "  Function to sample new sequences from the trained model.\r\n",
        "\r\n",
        "  Inputs:\r\n",
        "  model       - Trained model\r\n",
        "  file_name   - Name of the output midi file\r\n",
        "  vocab_len   - Number of unique notes in our dataset\r\n",
        "  base_offset - Time difference between each note\r\n",
        "  sample_len  - Number of notes/chords to sample\r\n",
        "\r\n",
        "  Outputs:\r\n",
        "  none\r\n",
        "  Writes the sampled midi song onto a file specified by file_name\r\n",
        "  \"\"\"\r\n",
        "\r\n",
        "  offset = 0\r\n",
        "  input = np.random.randint(0, len(X)-1)\r\n",
        "  network_input = (X[input]).unsqueeze(0).to(device)\r\n",
        "  music = []\r\n",
        "  notes = []\r\n",
        "  model.eval()\r\n",
        "\r\n",
        "  for i in range(sample_len):\r\n",
        "    prediction = model(network_input)\r\n",
        "    idx = torch.argmax(prediction, dim=1) # Get index of the predicted note\r\n",
        "    result = int_to_note[idx.item()]\r\n",
        "    notes.append(result)\r\n",
        "    #Convert idx to a network appropriate tensor\r\n",
        "    idx_tensor = torch.tensor([idx]).unsqueeze(-1).to(device)\r\n",
        "    network_input = torch.cat((network_input, idx_tensor), dim=1)\r\n",
        "    network_input = network_input[:,1:network_input.shape[1] + 1]\r\n",
        "  \r\n",
        "  inp_notes = [int_to_note[int(i.item())] for i in (X[input])]\r\n",
        "  # notes = inp_notes + notes\r\n",
        "  # notes = [int_to_note[n] for n in notes]\r\n",
        "  print(inp_notes)\r\n",
        "  print(notes)\r\n",
        "\r\n",
        "  for n in notes:\r\n",
        "    chord_list = []\r\n",
        "    if ',' in n: # n is a chord\r\n",
        "      chord_list = n.split(\",\")\r\n",
        "      chord_list = [int(c) for c in chord_list]\r\n",
        "      new_chord = chord.Chord(chord_list)\r\n",
        "      new_chord.offset = offset\r\n",
        "      music.append(new_chord)\r\n",
        "    else: # n is a note\r\n",
        "      if n == '': continue\r\n",
        "      new_note = note.Note(n)\r\n",
        "      new_note.offset = offset\r\n",
        "      music.append(new_note)\r\n",
        "    \r\n",
        "    offset += base_offset\r\n",
        "\r\n",
        "  output_stream = stream.Stream(music)\r\n",
        "\r\n",
        "  midi_file = midi.translate.streamToMidiFile(output_stream)\r\n",
        "  midi_file.open(f'{file_name}.mid', 'wb')\r\n",
        "  midi_file.write()\r\n",
        "  midi_file.close()"
      ],
      "execution_count": null,
      "outputs": []
    },
    {
      "cell_type": "code",
      "metadata": {
        "colab": {
          "base_uri": "https://localhost:8080/"
        },
        "id": "LZeY-7TMPcSp",
        "outputId": "8a4acd56-0d90-4458-ede8-eaef006faebb"
      },
      "source": [
        "sample(model, \"outputs\", VOCAB_LEN, 0.60, 100)"
      ],
      "execution_count": null,
      "outputs": [
        {
          "output_type": "stream",
          "text": [
            "['4,8', '3,7', 'B-', 'E-', '11,3', '11,3', '11,3', '11,3', '11,3', '4,8', '4,8', '4,8', '4,8', '4,8', 'F#', '4,8', '8,11', '8,11', '4,8', '3,7', 'B-', 'E-', 'E-', 'B-', 'E-', 'C#', 'B-', 'C', 'B-', 'G#', 'F', 'G', 'E-', 'F', 'E-', 'G', 'F', 'G', 'G', 'D', 'E', 'G', 'F', 'D', 'E', 'G', 'F', 'E-', 'D', 'C', 'B-', 'G', 'F#', 'G', 'G#', 'E-', 'E-', 'E-', 'G', 'F#', 'G', 'A', 'B-', 'A', 'B-', 'C', 'F#', 'F#', 'F#', 'F#', 'F#', 'F#', 'B-', 'A', 'B-', 'C#', 'G', 'G', 'C', 'B-', 'C', 'B-', 'G#', 'G', 'G', 'F', 'E-', 'E-', 'E-', 'E-', 'E-', 'F', 'E-', 'E-', 'F', 'E-', 'F#', '0,3', 'C#', 'F#']\n",
            "['F', 'F', 'E-', 'C#', 'B-', 'E-', 'C#', 'C', 'E-', 'B-', 'F', 'F', 'F', 'F', 'E-', 'C#', 'C', 'C#', 'B-', 'E-', 'C#', 'C', 'E-', 'E-', 'E-', 'G#', 'E-', 'C#', 'C', 'B-', 'C', 'B-', 'C', 'B-', 'C', 'B-', 'C', 'B-', 'C', 'B-', 'C', 'B-', 'C', 'B-', 'C', 'B-', 'C', 'B-', 'C', 'B-', 'C', 'B-', 'C', 'B-', 'C', 'B-', 'C', 'B-', 'C', 'B-', 'C', 'B-', 'C', 'B-', 'C', 'B-', 'C', 'B-', 'C', 'B-', 'C', 'B-', 'C', 'B-', 'C', 'B-', 'C', 'B-', 'C', 'B-', 'C', 'B-', 'C', 'B-', 'C', 'B-', 'C', 'B-', 'C', 'B-', 'C', 'B-', 'C', 'B-', 'C', 'B-', 'C', 'B-', 'C', 'B-']\n"
          ],
          "name": "stdout"
        }
      ]
    },
    {
      "cell_type": "code",
      "metadata": {
        "id": "MDyEhQwDCMKR"
      },
      "source": [
        ""
      ],
      "execution_count": null,
      "outputs": []
    }
  ]
}